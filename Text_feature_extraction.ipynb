{
  "nbformat": 4,
  "nbformat_minor": 0,
  "metadata": {
    "colab": {
      "provenance": [],
      "authorship_tag": "ABX9TyNdX5yewYq42YpglAj0CPB0",
      "include_colab_link": true
    },
    "kernelspec": {
      "name": "python3",
      "display_name": "Python 3"
    },
    "language_info": {
      "name": "python"
    }
  },
  "cells": [
    {
      "cell_type": "markdown",
      "metadata": {
        "id": "view-in-github",
        "colab_type": "text"
      },
      "source": [
        "<a href=\"https://colab.research.google.com/github/ayush9492/GenAi/blob/main/Text_feature_extraction.ipynb\" target=\"_parent\"><img src=\"https://colab.research.google.com/assets/colab-badge.svg\" alt=\"Open In Colab\"/></a>"
      ]
    },
    {
      "cell_type": "markdown",
      "source": [
        "# Bag of words"
      ],
      "metadata": {
        "id": "sFbWz8pow9IX"
      }
    },
    {
      "cell_type": "code",
      "execution_count": 2,
      "metadata": {
        "id": "CnVyShf0w2i7"
      },
      "outputs": [],
      "source": [
        "import numpy as np\n",
        "import pandas as pd"
      ]
    },
    {
      "cell_type": "code",
      "source": [
        "# 1) Basic bag of words using countvectorizer\n",
        "\n",
        "from sklearn.feature_extraction.text import CountVectorizer\n",
        "\n",
        "# Sample text data\n",
        "texts = [\n",
        "    \"The cat sat on the mat\",\n",
        "    \"The dog sat on the floor\",\n",
        "    \"Cats and dogs are pets\"\n",
        "]\n",
        "\n",
        "# Create and fit CountVectorizer\n",
        "vectorizer = CountVectorizer()\n",
        "X = vectorizer.fit_transform(texts)\n",
        "\n",
        "# Get feature names (words)\n",
        "print(\"Vocabulary:\", vectorizer.get_feature_names_out())\n",
        "print(\"BoW Matrix:\\n\", X.toarray())"
      ],
      "metadata": {
        "colab": {
          "base_uri": "https://localhost:8080/"
        },
        "id": "3u-iBrX1ng0N",
        "outputId": "b4846bb2-64c9-4b34-9837-985f995db6b8"
      },
      "execution_count": 3,
      "outputs": [
        {
          "output_type": "stream",
          "name": "stdout",
          "text": [
            "Vocabulary: ['and' 'are' 'cat' 'cats' 'dog' 'dogs' 'floor' 'mat' 'on' 'pets' 'sat'\n",
            " 'the']\n",
            "BoW Matrix:\n",
            " [[0 0 1 0 0 0 0 1 1 0 1 2]\n",
            " [0 0 0 0 1 0 1 0 1 0 1 2]\n",
            " [1 1 0 1 0 1 0 0 0 1 0 0]]\n"
          ]
        }
      ]
    },
    {
      "cell_type": "code",
      "source": [
        "df = pd.DataFrame({\"text\":[\"The cat sat on the mat\",\n",
        "    \"The dog sat on the floor\",\n",
        "    \"Cats and dogs are pets\"],\"output\":[1,0,1]})\n",
        "\n",
        "from sklearn.feature_extraction.text import CountVectorizer\n",
        "\n",
        "# Create and fit CountVectorizer\n",
        "cv = CountVectorizer()\n",
        "\n",
        "bow = cv.fit_transform(df['text'])\n",
        "print(\"Vocabulary:\",cv.vocabulary_)\n",
        "bow.toarray()"
      ],
      "metadata": {
        "colab": {
          "base_uri": "https://localhost:8080/"
        },
        "id": "pF_K_-58ntcn",
        "outputId": "bebecb88-ff0b-4dc8-ebc7-84a67dc3f551"
      },
      "execution_count": 16,
      "outputs": [
        {
          "output_type": "stream",
          "name": "stdout",
          "text": [
            "Vocabulary: {'the': 11, 'cat': 2, 'sat': 10, 'on': 8, 'mat': 7, 'dog': 4, 'floor': 6, 'cats': 3, 'and': 0, 'dogs': 5, 'are': 1, 'pets': 9}\n"
          ]
        },
        {
          "output_type": "execute_result",
          "data": {
            "text/plain": [
              "array([[0, 0, 1, 0, 0, 0, 0, 1, 1, 0, 1, 2],\n",
              "       [0, 0, 0, 0, 1, 0, 1, 0, 1, 0, 1, 2],\n",
              "       [1, 1, 0, 1, 0, 1, 0, 0, 0, 1, 0, 0]])"
            ]
          },
          "metadata": {},
          "execution_count": 16
        }
      ]
    },
    {
      "cell_type": "code",
      "source": [
        "cv.transform([\"The cat dog sat on the mat\"]).toarray()"
      ],
      "metadata": {
        "colab": {
          "base_uri": "https://localhost:8080/"
        },
        "id": "kvJxSLuTppeI",
        "outputId": "bd4fd049-8ab2-439d-c172-d75e6875420a"
      },
      "execution_count": 18,
      "outputs": [
        {
          "output_type": "execute_result",
          "data": {
            "text/plain": [
              "array([[0, 0, 1, 0, 1, 0, 0, 1, 1, 0, 1, 2]])"
            ]
          },
          "metadata": {},
          "execution_count": 18
        }
      ]
    },
    {
      "cell_type": "code",
      "source": [
        "x = bow.toarray()\n",
        "y = df['output']"
      ],
      "metadata": {
        "id": "e2CXMsTh2muA"
      },
      "execution_count": 20,
      "outputs": []
    },
    {
      "cell_type": "code",
      "source": [
        "x"
      ],
      "metadata": {
        "colab": {
          "base_uri": "https://localhost:8080/"
        },
        "id": "SaPqrLxv3LlH",
        "outputId": "85167cc5-631c-4b7e-8b02-22a7b84e19a8"
      },
      "execution_count": 23,
      "outputs": [
        {
          "output_type": "execute_result",
          "data": {
            "text/plain": [
              "array([[0, 0, 1, 0, 0, 0, 0, 1, 1, 0, 1, 2],\n",
              "       [0, 0, 0, 0, 1, 0, 1, 0, 1, 0, 1, 2],\n",
              "       [1, 1, 0, 1, 0, 1, 0, 0, 0, 1, 0, 0]])"
            ]
          },
          "metadata": {},
          "execution_count": 23
        }
      ]
    },
    {
      "cell_type": "markdown",
      "source": [
        "# N-Grams"
      ],
      "metadata": {
        "id": "LXkcAbsr431b"
      }
    },
    {
      "cell_type": "code",
      "source": [
        "# Basic n-grams types:\n",
        "\n",
        "text = \"The quick brown fox\"\n",
        "\n",
        "# Unigrams (n=1)\n",
        "unigrams = ['The', 'quick', 'brown', 'fox']\n",
        "\n",
        "# Bigrams (n=2)\n",
        "bigrams = ['The quick', 'quick brown', 'brown fox']\n",
        "\n",
        "# Trigrams (n=3)\n",
        "trigrams = ['The quick brown', 'quick brown fox']"
      ],
      "metadata": {
        "id": "bbV0Qznu4pXU"
      },
      "execution_count": 25,
      "outputs": []
    },
    {
      "cell_type": "code",
      "source": [],
      "metadata": {
        "id": "JdvvGgwu5QqG"
      },
      "execution_count": null,
      "outputs": []
    }
  ]
}