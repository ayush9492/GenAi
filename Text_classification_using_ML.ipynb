{
  "nbformat": 4,
  "nbformat_minor": 0,
  "metadata": {
    "colab": {
      "provenance": [],
      "mount_file_id": "1KU7E2SZYDhPEUBqwuQ93_0tVmHiQ30Z3",
      "authorship_tag": "ABX9TyN6vhqJlHZWgYLyquTCVrBu",
      "include_colab_link": true
    },
    "kernelspec": {
      "name": "python3",
      "display_name": "Python 3"
    },
    "language_info": {
      "name": "python"
    }
  },
  "cells": [
    {
      "cell_type": "markdown",
      "metadata": {
        "id": "view-in-github",
        "colab_type": "text"
      },
      "source": [
        "<a href=\"https://colab.research.google.com/github/ayush9492/GenAi/blob/main/Text_classification_using_ML.ipynb\" target=\"_parent\"><img src=\"https://colab.research.google.com/assets/colab-badge.svg\" alt=\"Open In Colab\"/></a>"
      ]
    },
    {
      "cell_type": "code",
      "execution_count": 7,
      "metadata": {
        "colab": {
          "base_uri": "https://localhost:8080/"
        },
        "id": "nOR3hl7rP5hP",
        "outputId": "463bd75a-bebc-4d10-df93-392dfc8c25a0"
      },
      "outputs": [
        {
          "output_type": "stream",
          "name": "stderr",
          "text": [
            "[nltk_data] Downloading package stopwords to /root/nltk_data...\n",
            "[nltk_data]   Package stopwords is already up-to-date!\n"
          ]
        }
      ],
      "source": [
        "import os\n",
        "import pandas as pd\n",
        "import numpy as np\n",
        "import matplotlib.pyplot as plt\n",
        "import seaborn as sns\n",
        "import re\n",
        "import nltk\n",
        "from nltk.corpus import stopwords\n",
        "nltk.download('stopwords')\n",
        "import string\n",
        "from sklearn.model_selection import train_test_split\n",
        "from sklearn.feature_extraction.text import CountVectorizer\n",
        "from sklearn.feature_extraction.text import TfidfTransformer\n",
        "from sklearn.metrics import classification_report, confusion_matrix\n",
        "from sklearn.naive_bayes import MultinomialNB\n",
        "from sklearn.pipeline import Pipeline\n",
        "pd.set_option('display.max_rows',None)\n",
        "pd.set_option('display.max_columns',None)\n",
        "pd.set_option('display.max_colwidth',255)"
      ]
    },
    {
      "cell_type": "code",
      "source": [
        "data_path = '/content/drive/MyDrive/IMDB Dataset.csv'"
      ],
      "metadata": {
        "id": "kekGsHMpShbk"
      },
      "execution_count": 8,
      "outputs": []
    },
    {
      "cell_type": "code",
      "source": [
        "df = pd.read_csv(data_path)"
      ],
      "metadata": {
        "id": "LrnsTpUDTlFX"
      },
      "execution_count": 9,
      "outputs": []
    },
    {
      "cell_type": "code",
      "source": [
        "df.head()"
      ],
      "metadata": {
        "colab": {
          "base_uri": "https://localhost:8080/",
          "height": 466
        },
        "id": "HKsesX2tTp1b",
        "outputId": "d2bd05ac-437b-4560-ba0e-0e3aae24c6e6"
      },
      "execution_count": 10,
      "outputs": [
        {
          "output_type": "execute_result",
          "data": {
            "text/plain": [
              "                                                                                                                                                                                                                                                           review  \\\n",
              "0  One of the other reviewers has mentioned that after watching just 1 Oz episode you'll be hooked. They are right, as this is exactly what happened with me.<br /><br />The first thing that struck me about Oz was its brutality and unflinching scenes of v...   \n",
              "1  A wonderful little production. <br /><br />The filming technique is very unassuming- very old-time-BBC fashion and gives a comforting, and sometimes discomforting, sense of realism to the entire piece. <br /><br />The actors are extremely well chosen-...   \n",
              "2  I thought this was a wonderful way to spend time on a too hot summer weekend, sitting in the air conditioned theater and watching a light-hearted comedy. The plot is simplistic, but the dialogue is witty and the characters are likable (even the well b...   \n",
              "3  Basically there's a family where a little boy (Jake) thinks there's a zombie in his closet & his parents are fighting all the time.<br /><br />This movie is slower than a soap opera... and suddenly, Jake decides to become Rambo and kill the zombie.<br...   \n",
              "4  Petter Mattei's \"Love in the Time of Money\" is a visually stunning film to watch. Mr. Mattei offers us a vivid portrait about human relations. This is a movie that seems to be telling us what money, power and success do to people in the different situ...   \n",
              "\n",
              "  sentiment  \n",
              "0  positive  \n",
              "1  positive  \n",
              "2  positive  \n",
              "3  negative  \n",
              "4  positive  "
            ],
            "text/html": [
              "\n",
              "  <div id=\"df-109882f1-b39a-45da-b525-9c04434bcaba\" class=\"colab-df-container\">\n",
              "    <div>\n",
              "<style scoped>\n",
              "    .dataframe tbody tr th:only-of-type {\n",
              "        vertical-align: middle;\n",
              "    }\n",
              "\n",
              "    .dataframe tbody tr th {\n",
              "        vertical-align: top;\n",
              "    }\n",
              "\n",
              "    .dataframe thead th {\n",
              "        text-align: right;\n",
              "    }\n",
              "</style>\n",
              "<table border=\"1\" class=\"dataframe\">\n",
              "  <thead>\n",
              "    <tr style=\"text-align: right;\">\n",
              "      <th></th>\n",
              "      <th>review</th>\n",
              "      <th>sentiment</th>\n",
              "    </tr>\n",
              "  </thead>\n",
              "  <tbody>\n",
              "    <tr>\n",
              "      <th>0</th>\n",
              "      <td>One of the other reviewers has mentioned that after watching just 1 Oz episode you'll be hooked. They are right, as this is exactly what happened with me.&lt;br /&gt;&lt;br /&gt;The first thing that struck me about Oz was its brutality and unflinching scenes of v...</td>\n",
              "      <td>positive</td>\n",
              "    </tr>\n",
              "    <tr>\n",
              "      <th>1</th>\n",
              "      <td>A wonderful little production. &lt;br /&gt;&lt;br /&gt;The filming technique is very unassuming- very old-time-BBC fashion and gives a comforting, and sometimes discomforting, sense of realism to the entire piece. &lt;br /&gt;&lt;br /&gt;The actors are extremely well chosen-...</td>\n",
              "      <td>positive</td>\n",
              "    </tr>\n",
              "    <tr>\n",
              "      <th>2</th>\n",
              "      <td>I thought this was a wonderful way to spend time on a too hot summer weekend, sitting in the air conditioned theater and watching a light-hearted comedy. The plot is simplistic, but the dialogue is witty and the characters are likable (even the well b...</td>\n",
              "      <td>positive</td>\n",
              "    </tr>\n",
              "    <tr>\n",
              "      <th>3</th>\n",
              "      <td>Basically there's a family where a little boy (Jake) thinks there's a zombie in his closet &amp; his parents are fighting all the time.&lt;br /&gt;&lt;br /&gt;This movie is slower than a soap opera... and suddenly, Jake decides to become Rambo and kill the zombie.&lt;br...</td>\n",
              "      <td>negative</td>\n",
              "    </tr>\n",
              "    <tr>\n",
              "      <th>4</th>\n",
              "      <td>Petter Mattei's \"Love in the Time of Money\" is a visually stunning film to watch. Mr. Mattei offers us a vivid portrait about human relations. This is a movie that seems to be telling us what money, power and success do to people in the different situ...</td>\n",
              "      <td>positive</td>\n",
              "    </tr>\n",
              "  </tbody>\n",
              "</table>\n",
              "</div>\n",
              "    <div class=\"colab-df-buttons\">\n",
              "\n",
              "  <div class=\"colab-df-container\">\n",
              "    <button class=\"colab-df-convert\" onclick=\"convertToInteractive('df-109882f1-b39a-45da-b525-9c04434bcaba')\"\n",
              "            title=\"Convert this dataframe to an interactive table.\"\n",
              "            style=\"display:none;\">\n",
              "\n",
              "  <svg xmlns=\"http://www.w3.org/2000/svg\" height=\"24px\" viewBox=\"0 -960 960 960\">\n",
              "    <path d=\"M120-120v-720h720v720H120Zm60-500h600v-160H180v160Zm220 220h160v-160H400v160Zm0 220h160v-160H400v160ZM180-400h160v-160H180v160Zm440 0h160v-160H620v160ZM180-180h160v-160H180v160Zm440 0h160v-160H620v160Z\"/>\n",
              "  </svg>\n",
              "    </button>\n",
              "\n",
              "  <style>\n",
              "    .colab-df-container {\n",
              "      display:flex;\n",
              "      gap: 12px;\n",
              "    }\n",
              "\n",
              "    .colab-df-convert {\n",
              "      background-color: #E8F0FE;\n",
              "      border: none;\n",
              "      border-radius: 50%;\n",
              "      cursor: pointer;\n",
              "      display: none;\n",
              "      fill: #1967D2;\n",
              "      height: 32px;\n",
              "      padding: 0 0 0 0;\n",
              "      width: 32px;\n",
              "    }\n",
              "\n",
              "    .colab-df-convert:hover {\n",
              "      background-color: #E2EBFA;\n",
              "      box-shadow: 0px 1px 2px rgba(60, 64, 67, 0.3), 0px 1px 3px 1px rgba(60, 64, 67, 0.15);\n",
              "      fill: #174EA6;\n",
              "    }\n",
              "\n",
              "    .colab-df-buttons div {\n",
              "      margin-bottom: 4px;\n",
              "    }\n",
              "\n",
              "    [theme=dark] .colab-df-convert {\n",
              "      background-color: #3B4455;\n",
              "      fill: #D2E3FC;\n",
              "    }\n",
              "\n",
              "    [theme=dark] .colab-df-convert:hover {\n",
              "      background-color: #434B5C;\n",
              "      box-shadow: 0px 1px 3px 1px rgba(0, 0, 0, 0.15);\n",
              "      filter: drop-shadow(0px 1px 2px rgba(0, 0, 0, 0.3));\n",
              "      fill: #FFFFFF;\n",
              "    }\n",
              "  </style>\n",
              "\n",
              "    <script>\n",
              "      const buttonEl =\n",
              "        document.querySelector('#df-109882f1-b39a-45da-b525-9c04434bcaba button.colab-df-convert');\n",
              "      buttonEl.style.display =\n",
              "        google.colab.kernel.accessAllowed ? 'block' : 'none';\n",
              "\n",
              "      async function convertToInteractive(key) {\n",
              "        const element = document.querySelector('#df-109882f1-b39a-45da-b525-9c04434bcaba');\n",
              "        const dataTable =\n",
              "          await google.colab.kernel.invokeFunction('convertToInteractive',\n",
              "                                                    [key], {});\n",
              "        if (!dataTable) return;\n",
              "\n",
              "        const docLinkHtml = 'Like what you see? Visit the ' +\n",
              "          '<a target=\"_blank\" href=https://colab.research.google.com/notebooks/data_table.ipynb>data table notebook</a>'\n",
              "          + ' to learn more about interactive tables.';\n",
              "        element.innerHTML = '';\n",
              "        dataTable['output_type'] = 'display_data';\n",
              "        await google.colab.output.renderOutput(dataTable, element);\n",
              "        const docLink = document.createElement('div');\n",
              "        docLink.innerHTML = docLinkHtml;\n",
              "        element.appendChild(docLink);\n",
              "      }\n",
              "    </script>\n",
              "  </div>\n",
              "\n",
              "\n",
              "<div id=\"df-1c8c57bb-1c6a-47bd-b723-95dd1b18e7fc\">\n",
              "  <button class=\"colab-df-quickchart\" onclick=\"quickchart('df-1c8c57bb-1c6a-47bd-b723-95dd1b18e7fc')\"\n",
              "            title=\"Suggest charts\"\n",
              "            style=\"display:none;\">\n",
              "\n",
              "<svg xmlns=\"http://www.w3.org/2000/svg\" height=\"24px\"viewBox=\"0 0 24 24\"\n",
              "     width=\"24px\">\n",
              "    <g>\n",
              "        <path d=\"M19 3H5c-1.1 0-2 .9-2 2v14c0 1.1.9 2 2 2h14c1.1 0 2-.9 2-2V5c0-1.1-.9-2-2-2zM9 17H7v-7h2v7zm4 0h-2V7h2v10zm4 0h-2v-4h2v4z\"/>\n",
              "    </g>\n",
              "</svg>\n",
              "  </button>\n",
              "\n",
              "<style>\n",
              "  .colab-df-quickchart {\n",
              "      --bg-color: #E8F0FE;\n",
              "      --fill-color: #1967D2;\n",
              "      --hover-bg-color: #E2EBFA;\n",
              "      --hover-fill-color: #174EA6;\n",
              "      --disabled-fill-color: #AAA;\n",
              "      --disabled-bg-color: #DDD;\n",
              "  }\n",
              "\n",
              "  [theme=dark] .colab-df-quickchart {\n",
              "      --bg-color: #3B4455;\n",
              "      --fill-color: #D2E3FC;\n",
              "      --hover-bg-color: #434B5C;\n",
              "      --hover-fill-color: #FFFFFF;\n",
              "      --disabled-bg-color: #3B4455;\n",
              "      --disabled-fill-color: #666;\n",
              "  }\n",
              "\n",
              "  .colab-df-quickchart {\n",
              "    background-color: var(--bg-color);\n",
              "    border: none;\n",
              "    border-radius: 50%;\n",
              "    cursor: pointer;\n",
              "    display: none;\n",
              "    fill: var(--fill-color);\n",
              "    height: 32px;\n",
              "    padding: 0;\n",
              "    width: 32px;\n",
              "  }\n",
              "\n",
              "  .colab-df-quickchart:hover {\n",
              "    background-color: var(--hover-bg-color);\n",
              "    box-shadow: 0 1px 2px rgba(60, 64, 67, 0.3), 0 1px 3px 1px rgba(60, 64, 67, 0.15);\n",
              "    fill: var(--button-hover-fill-color);\n",
              "  }\n",
              "\n",
              "  .colab-df-quickchart-complete:disabled,\n",
              "  .colab-df-quickchart-complete:disabled:hover {\n",
              "    background-color: var(--disabled-bg-color);\n",
              "    fill: var(--disabled-fill-color);\n",
              "    box-shadow: none;\n",
              "  }\n",
              "\n",
              "  .colab-df-spinner {\n",
              "    border: 2px solid var(--fill-color);\n",
              "    border-color: transparent;\n",
              "    border-bottom-color: var(--fill-color);\n",
              "    animation:\n",
              "      spin 1s steps(1) infinite;\n",
              "  }\n",
              "\n",
              "  @keyframes spin {\n",
              "    0% {\n",
              "      border-color: transparent;\n",
              "      border-bottom-color: var(--fill-color);\n",
              "      border-left-color: var(--fill-color);\n",
              "    }\n",
              "    20% {\n",
              "      border-color: transparent;\n",
              "      border-left-color: var(--fill-color);\n",
              "      border-top-color: var(--fill-color);\n",
              "    }\n",
              "    30% {\n",
              "      border-color: transparent;\n",
              "      border-left-color: var(--fill-color);\n",
              "      border-top-color: var(--fill-color);\n",
              "      border-right-color: var(--fill-color);\n",
              "    }\n",
              "    40% {\n",
              "      border-color: transparent;\n",
              "      border-right-color: var(--fill-color);\n",
              "      border-top-color: var(--fill-color);\n",
              "    }\n",
              "    60% {\n",
              "      border-color: transparent;\n",
              "      border-right-color: var(--fill-color);\n",
              "    }\n",
              "    80% {\n",
              "      border-color: transparent;\n",
              "      border-right-color: var(--fill-color);\n",
              "      border-bottom-color: var(--fill-color);\n",
              "    }\n",
              "    90% {\n",
              "      border-color: transparent;\n",
              "      border-bottom-color: var(--fill-color);\n",
              "    }\n",
              "  }\n",
              "</style>\n",
              "\n",
              "  <script>\n",
              "    async function quickchart(key) {\n",
              "      const quickchartButtonEl =\n",
              "        document.querySelector('#' + key + ' button');\n",
              "      quickchartButtonEl.disabled = true;  // To prevent multiple clicks.\n",
              "      quickchartButtonEl.classList.add('colab-df-spinner');\n",
              "      try {\n",
              "        const charts = await google.colab.kernel.invokeFunction(\n",
              "            'suggestCharts', [key], {});\n",
              "      } catch (error) {\n",
              "        console.error('Error during call to suggestCharts:', error);\n",
              "      }\n",
              "      quickchartButtonEl.classList.remove('colab-df-spinner');\n",
              "      quickchartButtonEl.classList.add('colab-df-quickchart-complete');\n",
              "    }\n",
              "    (() => {\n",
              "      let quickchartButtonEl =\n",
              "        document.querySelector('#df-1c8c57bb-1c6a-47bd-b723-95dd1b18e7fc button');\n",
              "      quickchartButtonEl.style.display =\n",
              "        google.colab.kernel.accessAllowed ? 'block' : 'none';\n",
              "    })();\n",
              "  </script>\n",
              "</div>\n",
              "\n",
              "    </div>\n",
              "  </div>\n"
            ],
            "application/vnd.google.colaboratory.intrinsic+json": {
              "type": "dataframe",
              "variable_name": "df",
              "summary": "{\n  \"name\": \"df\",\n  \"rows\": 50000,\n  \"fields\": [\n    {\n      \"column\": \"review\",\n      \"properties\": {\n        \"dtype\": \"string\",\n        \"num_unique_values\": 49582,\n        \"samples\": [\n          \"\\\"Soul Plane\\\" is a horrible attempt at comedy that only should appeal people with thick skulls, bloodshot eyes and furry pawns. <br /><br />The plot is not only incoherent but also non-existent, acting is mostly sub sub-par with a gang of highly moronic and dreadful characters thrown in for bad measure, jokes are often spotted miles ahead and almost never even a bit amusing. This movie lacks any structure and is full of racial stereotypes that must have seemed old even in the fifties, the only thing it really has going for it is some pretty ladies, but really, if you want that you can rent something from the \\\"Adult\\\" section. OK?<br /><br />I can hardly see anything here to recommend since you'll probably have a lot a better and productive time chasing rats with a sledgehammer or inventing waterproof teabags or whatever.<br /><br />2/10\",\n          \"Guest from the Future tells a fascinating story of time travel, friendship, battle of good and evil -- all with a small budget, child actors, and few special effects. Something for Spielberg and Lucas to learn from. ;) A sixth-grader Kolya \\\"Nick\\\" Gerasimov finds a time machine in the basement of a decrepit building and travels 100 years into the future. He discovers a near-perfect, utopian society where robots play guitars and write poetry, everyone is kind to each other and people enjoy everything technology has to offer. Alice is the daughter of a prominent scientist who invented a device called Mielophone that allows to read minds of humans and animals. The device can be put to both good and bad use, depending on whose hands it falls into. When two evil space pirates from Saturn who want to rule the universe attempt to steal Mielophone, it falls into the hands of 20th century school boy Nick. With the pirates hot on his tracks, he travels back to his time, followed by the pirates, and Alice. Chaos, confusion and funny situations follow as the luckless pirates try to blend in with the earthlings. Alice enrolls in the same school Nick goes to and demonstrates superhuman abilities in PE class. The catch is, Alice doesn't know what Nick looks like, while the pirates do. Also, the pirates are able to change their appearance and turn literally into anyone. (Hmm, I wonder if this is where James Cameron got the idea for Terminator...) Who gets to Nick -- and Mielophone -- first? Excellent plot, non-stop adventures, and great soundtrack. I wish Hollywood made kid movies like this one...\",\n          \"\\\"National Treasure\\\" (2004) is a thoroughly misguided hodge-podge of plot entanglements that borrow from nearly every cloak and dagger government conspiracy clich\\u00e9 that has ever been written. The film stars Nicholas Cage as Benjamin Franklin Gates (how precious is that, I ask you?); a seemingly normal fellow who, for no other reason than being of a lineage of like-minded misguided fortune hunters, decides to steal a 'national treasure' that has been hidden by the United States founding fathers. After a bit of subtext and background that plays laughably (unintentionally) like Indiana Jones meets The Patriot, the film degenerates into one misguided whimsy after another \\u0096 attempting to create a 'Stanley Goodspeed' regurgitation of Nicholas Cage and launch the whole convoluted mess forward with a series of high octane, but disconnected misadventures.<br /><br />The relevancy and logic to having George Washington and his motley crew of patriots burying a king's ransom someplace on native soil, and then, going through the meticulous plan of leaving clues scattered throughout U.S. currency art work, is something that director Jon Turteltaub never quite gets around to explaining. Couldn't Washington found better usage for such wealth during the start up of the country? Hence, we are left with a mystery built on top of an enigma that is already on shaky ground by the time Ben appoints himself the new custodian of this untold wealth. Ben's intentions are noble \\u0096 if confusing. He's set on protecting the treasure. For who and when?\\u0085your guess is as good as mine.<br /><br />But there are a few problems with Ben's crusade. First up, his friend, Ian Holmes (Sean Bean) decides that he can't wait for Ben to make up his mind about stealing the Declaration of Independence from the National Archives (oh, yeah \\u0096 brilliant idea!). Presumably, the back of that famous document holds the secret answer to the ultimate fortune. So Ian tries to kill Ben. The assassination attempt is, of course, unsuccessful, if overly melodramatic. It also affords Ben the opportunity to pick up, and pick on, the very sultry curator of the archives, Abigail Chase (Diane Kruger). She thinks Ben is clearly a nut \\u0096 at least at the beginning. But true to action/romance form, Abby's resolve melts quicker than you can say, \\\"is that the Hope Diamond?\\\" The film moves into full X-File-ish mode, as the FBI, mistakenly believing that Ben is behind the theft, retaliate in various benign ways that lead to a multi-layering of action sequences reminiscent of Mission Impossible meets The Fugitive. Honestly, don't those guys ever get 'intelligence' information that is correct? In the final analysis, \\\"National Treasure\\\" isn't great film making, so much as it's a patchwork rehash of tired old bits from other movies, woven together from scraps, the likes of which would make IL' Betsy Ross blush.<br /><br />The Buena Vista DVD delivers a far more generous treatment than this film is deserving of. The anamorphic widescreen picture exhibits a very smooth and finely detailed image with very rich colors, natural flesh tones, solid blacks and clean whites. The stylized image is also free of blemishes and digital enhancements. The audio is 5.1 and delivers a nice sonic boom to your side and rear speakers with intensity and realism. Extras include a host of promotional junket material that is rather deep and over the top in its explanation of how and why this film was made. If only, as an audience, we had had more clarification as to why Ben and co. were chasing after an illusive treasure, this might have been one good flick. Extras conclude with the theatrical trailer, audio commentary and deleted scenes. Not for the faint-hearted \\u0096 just the thick-headed.\"\n        ],\n        \"semantic_type\": \"\",\n        \"description\": \"\"\n      }\n    },\n    {\n      \"column\": \"sentiment\",\n      \"properties\": {\n        \"dtype\": \"category\",\n        \"num_unique_values\": 2,\n        \"samples\": [\n          \"negative\",\n          \"positive\"\n        ],\n        \"semantic_type\": \"\",\n        \"description\": \"\"\n      }\n    }\n  ]\n}"
            }
          },
          "metadata": {},
          "execution_count": 10
        }
      ]
    },
    {
      "cell_type": "code",
      "source": [
        "df.shape"
      ],
      "metadata": {
        "colab": {
          "base_uri": "https://localhost:8080/"
        },
        "id": "KDzKJJD3Trom",
        "outputId": "ed00a9ca-3fe0-4d29-a0cb-f5cb806ce105"
      },
      "execution_count": 11,
      "outputs": [
        {
          "output_type": "execute_result",
          "data": {
            "text/plain": [
              "(50000, 2)"
            ]
          },
          "metadata": {},
          "execution_count": 11
        }
      ]
    },
    {
      "cell_type": "code",
      "source": [
        "#taking only 10000 examples\n",
        "df = df.iloc[:10000]\n",
        "df.head()"
      ],
      "metadata": {
        "colab": {
          "base_uri": "https://localhost:8080/",
          "height": 466
        },
        "id": "9RCi46JeT0mA",
        "outputId": "031cbc16-5f94-41ec-b78b-031fa06fc0e7"
      },
      "execution_count": 12,
      "outputs": [
        {
          "output_type": "execute_result",
          "data": {
            "text/plain": [
              "                                                                                                                                                                                                                                                           review  \\\n",
              "0  One of the other reviewers has mentioned that after watching just 1 Oz episode you'll be hooked. They are right, as this is exactly what happened with me.<br /><br />The first thing that struck me about Oz was its brutality and unflinching scenes of v...   \n",
              "1  A wonderful little production. <br /><br />The filming technique is very unassuming- very old-time-BBC fashion and gives a comforting, and sometimes discomforting, sense of realism to the entire piece. <br /><br />The actors are extremely well chosen-...   \n",
              "2  I thought this was a wonderful way to spend time on a too hot summer weekend, sitting in the air conditioned theater and watching a light-hearted comedy. The plot is simplistic, but the dialogue is witty and the characters are likable (even the well b...   \n",
              "3  Basically there's a family where a little boy (Jake) thinks there's a zombie in his closet & his parents are fighting all the time.<br /><br />This movie is slower than a soap opera... and suddenly, Jake decides to become Rambo and kill the zombie.<br...   \n",
              "4  Petter Mattei's \"Love in the Time of Money\" is a visually stunning film to watch. Mr. Mattei offers us a vivid portrait about human relations. This is a movie that seems to be telling us what money, power and success do to people in the different situ...   \n",
              "\n",
              "  sentiment  \n",
              "0  positive  \n",
              "1  positive  \n",
              "2  positive  \n",
              "3  negative  \n",
              "4  positive  "
            ],
            "text/html": [
              "\n",
              "  <div id=\"df-70a3cd4f-5df7-4007-83e0-0e38dd21d051\" class=\"colab-df-container\">\n",
              "    <div>\n",
              "<style scoped>\n",
              "    .dataframe tbody tr th:only-of-type {\n",
              "        vertical-align: middle;\n",
              "    }\n",
              "\n",
              "    .dataframe tbody tr th {\n",
              "        vertical-align: top;\n",
              "    }\n",
              "\n",
              "    .dataframe thead th {\n",
              "        text-align: right;\n",
              "    }\n",
              "</style>\n",
              "<table border=\"1\" class=\"dataframe\">\n",
              "  <thead>\n",
              "    <tr style=\"text-align: right;\">\n",
              "      <th></th>\n",
              "      <th>review</th>\n",
              "      <th>sentiment</th>\n",
              "    </tr>\n",
              "  </thead>\n",
              "  <tbody>\n",
              "    <tr>\n",
              "      <th>0</th>\n",
              "      <td>One of the other reviewers has mentioned that after watching just 1 Oz episode you'll be hooked. They are right, as this is exactly what happened with me.&lt;br /&gt;&lt;br /&gt;The first thing that struck me about Oz was its brutality and unflinching scenes of v...</td>\n",
              "      <td>positive</td>\n",
              "    </tr>\n",
              "    <tr>\n",
              "      <th>1</th>\n",
              "      <td>A wonderful little production. &lt;br /&gt;&lt;br /&gt;The filming technique is very unassuming- very old-time-BBC fashion and gives a comforting, and sometimes discomforting, sense of realism to the entire piece. &lt;br /&gt;&lt;br /&gt;The actors are extremely well chosen-...</td>\n",
              "      <td>positive</td>\n",
              "    </tr>\n",
              "    <tr>\n",
              "      <th>2</th>\n",
              "      <td>I thought this was a wonderful way to spend time on a too hot summer weekend, sitting in the air conditioned theater and watching a light-hearted comedy. The plot is simplistic, but the dialogue is witty and the characters are likable (even the well b...</td>\n",
              "      <td>positive</td>\n",
              "    </tr>\n",
              "    <tr>\n",
              "      <th>3</th>\n",
              "      <td>Basically there's a family where a little boy (Jake) thinks there's a zombie in his closet &amp; his parents are fighting all the time.&lt;br /&gt;&lt;br /&gt;This movie is slower than a soap opera... and suddenly, Jake decides to become Rambo and kill the zombie.&lt;br...</td>\n",
              "      <td>negative</td>\n",
              "    </tr>\n",
              "    <tr>\n",
              "      <th>4</th>\n",
              "      <td>Petter Mattei's \"Love in the Time of Money\" is a visually stunning film to watch. Mr. Mattei offers us a vivid portrait about human relations. This is a movie that seems to be telling us what money, power and success do to people in the different situ...</td>\n",
              "      <td>positive</td>\n",
              "    </tr>\n",
              "  </tbody>\n",
              "</table>\n",
              "</div>\n",
              "    <div class=\"colab-df-buttons\">\n",
              "\n",
              "  <div class=\"colab-df-container\">\n",
              "    <button class=\"colab-df-convert\" onclick=\"convertToInteractive('df-70a3cd4f-5df7-4007-83e0-0e38dd21d051')\"\n",
              "            title=\"Convert this dataframe to an interactive table.\"\n",
              "            style=\"display:none;\">\n",
              "\n",
              "  <svg xmlns=\"http://www.w3.org/2000/svg\" height=\"24px\" viewBox=\"0 -960 960 960\">\n",
              "    <path d=\"M120-120v-720h720v720H120Zm60-500h600v-160H180v160Zm220 220h160v-160H400v160Zm0 220h160v-160H400v160ZM180-400h160v-160H180v160Zm440 0h160v-160H620v160ZM180-180h160v-160H180v160Zm440 0h160v-160H620v160Z\"/>\n",
              "  </svg>\n",
              "    </button>\n",
              "\n",
              "  <style>\n",
              "    .colab-df-container {\n",
              "      display:flex;\n",
              "      gap: 12px;\n",
              "    }\n",
              "\n",
              "    .colab-df-convert {\n",
              "      background-color: #E8F0FE;\n",
              "      border: none;\n",
              "      border-radius: 50%;\n",
              "      cursor: pointer;\n",
              "      display: none;\n",
              "      fill: #1967D2;\n",
              "      height: 32px;\n",
              "      padding: 0 0 0 0;\n",
              "      width: 32px;\n",
              "    }\n",
              "\n",
              "    .colab-df-convert:hover {\n",
              "      background-color: #E2EBFA;\n",
              "      box-shadow: 0px 1px 2px rgba(60, 64, 67, 0.3), 0px 1px 3px 1px rgba(60, 64, 67, 0.15);\n",
              "      fill: #174EA6;\n",
              "    }\n",
              "\n",
              "    .colab-df-buttons div {\n",
              "      margin-bottom: 4px;\n",
              "    }\n",
              "\n",
              "    [theme=dark] .colab-df-convert {\n",
              "      background-color: #3B4455;\n",
              "      fill: #D2E3FC;\n",
              "    }\n",
              "\n",
              "    [theme=dark] .colab-df-convert:hover {\n",
              "      background-color: #434B5C;\n",
              "      box-shadow: 0px 1px 3px 1px rgba(0, 0, 0, 0.15);\n",
              "      filter: drop-shadow(0px 1px 2px rgba(0, 0, 0, 0.3));\n",
              "      fill: #FFFFFF;\n",
              "    }\n",
              "  </style>\n",
              "\n",
              "    <script>\n",
              "      const buttonEl =\n",
              "        document.querySelector('#df-70a3cd4f-5df7-4007-83e0-0e38dd21d051 button.colab-df-convert');\n",
              "      buttonEl.style.display =\n",
              "        google.colab.kernel.accessAllowed ? 'block' : 'none';\n",
              "\n",
              "      async function convertToInteractive(key) {\n",
              "        const element = document.querySelector('#df-70a3cd4f-5df7-4007-83e0-0e38dd21d051');\n",
              "        const dataTable =\n",
              "          await google.colab.kernel.invokeFunction('convertToInteractive',\n",
              "                                                    [key], {});\n",
              "        if (!dataTable) return;\n",
              "\n",
              "        const docLinkHtml = 'Like what you see? Visit the ' +\n",
              "          '<a target=\"_blank\" href=https://colab.research.google.com/notebooks/data_table.ipynb>data table notebook</a>'\n",
              "          + ' to learn more about interactive tables.';\n",
              "        element.innerHTML = '';\n",
              "        dataTable['output_type'] = 'display_data';\n",
              "        await google.colab.output.renderOutput(dataTable, element);\n",
              "        const docLink = document.createElement('div');\n",
              "        docLink.innerHTML = docLinkHtml;\n",
              "        element.appendChild(docLink);\n",
              "      }\n",
              "    </script>\n",
              "  </div>\n",
              "\n",
              "\n",
              "<div id=\"df-b8148c6d-ee1a-4fc7-aa67-fa25cc13fce8\">\n",
              "  <button class=\"colab-df-quickchart\" onclick=\"quickchart('df-b8148c6d-ee1a-4fc7-aa67-fa25cc13fce8')\"\n",
              "            title=\"Suggest charts\"\n",
              "            style=\"display:none;\">\n",
              "\n",
              "<svg xmlns=\"http://www.w3.org/2000/svg\" height=\"24px\"viewBox=\"0 0 24 24\"\n",
              "     width=\"24px\">\n",
              "    <g>\n",
              "        <path d=\"M19 3H5c-1.1 0-2 .9-2 2v14c0 1.1.9 2 2 2h14c1.1 0 2-.9 2-2V5c0-1.1-.9-2-2-2zM9 17H7v-7h2v7zm4 0h-2V7h2v10zm4 0h-2v-4h2v4z\"/>\n",
              "    </g>\n",
              "</svg>\n",
              "  </button>\n",
              "\n",
              "<style>\n",
              "  .colab-df-quickchart {\n",
              "      --bg-color: #E8F0FE;\n",
              "      --fill-color: #1967D2;\n",
              "      --hover-bg-color: #E2EBFA;\n",
              "      --hover-fill-color: #174EA6;\n",
              "      --disabled-fill-color: #AAA;\n",
              "      --disabled-bg-color: #DDD;\n",
              "  }\n",
              "\n",
              "  [theme=dark] .colab-df-quickchart {\n",
              "      --bg-color: #3B4455;\n",
              "      --fill-color: #D2E3FC;\n",
              "      --hover-bg-color: #434B5C;\n",
              "      --hover-fill-color: #FFFFFF;\n",
              "      --disabled-bg-color: #3B4455;\n",
              "      --disabled-fill-color: #666;\n",
              "  }\n",
              "\n",
              "  .colab-df-quickchart {\n",
              "    background-color: var(--bg-color);\n",
              "    border: none;\n",
              "    border-radius: 50%;\n",
              "    cursor: pointer;\n",
              "    display: none;\n",
              "    fill: var(--fill-color);\n",
              "    height: 32px;\n",
              "    padding: 0;\n",
              "    width: 32px;\n",
              "  }\n",
              "\n",
              "  .colab-df-quickchart:hover {\n",
              "    background-color: var(--hover-bg-color);\n",
              "    box-shadow: 0 1px 2px rgba(60, 64, 67, 0.3), 0 1px 3px 1px rgba(60, 64, 67, 0.15);\n",
              "    fill: var(--button-hover-fill-color);\n",
              "  }\n",
              "\n",
              "  .colab-df-quickchart-complete:disabled,\n",
              "  .colab-df-quickchart-complete:disabled:hover {\n",
              "    background-color: var(--disabled-bg-color);\n",
              "    fill: var(--disabled-fill-color);\n",
              "    box-shadow: none;\n",
              "  }\n",
              "\n",
              "  .colab-df-spinner {\n",
              "    border: 2px solid var(--fill-color);\n",
              "    border-color: transparent;\n",
              "    border-bottom-color: var(--fill-color);\n",
              "    animation:\n",
              "      spin 1s steps(1) infinite;\n",
              "  }\n",
              "\n",
              "  @keyframes spin {\n",
              "    0% {\n",
              "      border-color: transparent;\n",
              "      border-bottom-color: var(--fill-color);\n",
              "      border-left-color: var(--fill-color);\n",
              "    }\n",
              "    20% {\n",
              "      border-color: transparent;\n",
              "      border-left-color: var(--fill-color);\n",
              "      border-top-color: var(--fill-color);\n",
              "    }\n",
              "    30% {\n",
              "      border-color: transparent;\n",
              "      border-left-color: var(--fill-color);\n",
              "      border-top-color: var(--fill-color);\n",
              "      border-right-color: var(--fill-color);\n",
              "    }\n",
              "    40% {\n",
              "      border-color: transparent;\n",
              "      border-right-color: var(--fill-color);\n",
              "      border-top-color: var(--fill-color);\n",
              "    }\n",
              "    60% {\n",
              "      border-color: transparent;\n",
              "      border-right-color: var(--fill-color);\n",
              "    }\n",
              "    80% {\n",
              "      border-color: transparent;\n",
              "      border-right-color: var(--fill-color);\n",
              "      border-bottom-color: var(--fill-color);\n",
              "    }\n",
              "    90% {\n",
              "      border-color: transparent;\n",
              "      border-bottom-color: var(--fill-color);\n",
              "    }\n",
              "  }\n",
              "</style>\n",
              "\n",
              "  <script>\n",
              "    async function quickchart(key) {\n",
              "      const quickchartButtonEl =\n",
              "        document.querySelector('#' + key + ' button');\n",
              "      quickchartButtonEl.disabled = true;  // To prevent multiple clicks.\n",
              "      quickchartButtonEl.classList.add('colab-df-spinner');\n",
              "      try {\n",
              "        const charts = await google.colab.kernel.invokeFunction(\n",
              "            'suggestCharts', [key], {});\n",
              "      } catch (error) {\n",
              "        console.error('Error during call to suggestCharts:', error);\n",
              "      }\n",
              "      quickchartButtonEl.classList.remove('colab-df-spinner');\n",
              "      quickchartButtonEl.classList.add('colab-df-quickchart-complete');\n",
              "    }\n",
              "    (() => {\n",
              "      let quickchartButtonEl =\n",
              "        document.querySelector('#df-b8148c6d-ee1a-4fc7-aa67-fa25cc13fce8 button');\n",
              "      quickchartButtonEl.style.display =\n",
              "        google.colab.kernel.accessAllowed ? 'block' : 'none';\n",
              "    })();\n",
              "  </script>\n",
              "</div>\n",
              "\n",
              "    </div>\n",
              "  </div>\n"
            ],
            "application/vnd.google.colaboratory.intrinsic+json": {
              "type": "dataframe",
              "variable_name": "df",
              "summary": "{\n  \"name\": \"df\",\n  \"rows\": 10000,\n  \"fields\": [\n    {\n      \"column\": \"review\",\n      \"properties\": {\n        \"dtype\": \"string\",\n        \"num_unique_values\": 9983,\n        \"samples\": [\n          \"Good grief! While I still maintain that Manos: The Hands of Fate is the worst piece of mental torture available, Hobgoblins came awfully close. This...this...thing insults the audience at every opportunity.<br /><br />At least films like Space Mutiny and Future War can be enjoyed on mst3k, this one was a struggle to get through. I was literally writhing on the couch in anguish. This thing managed to embarrass me - alone!<br /><br />Even if you are a die-hard MST3K fan and have made it your mission to see every single experiment, think twice about seeing this one.<br /><br />It's that bad.\",\n          \"I thought \\\"Intensive Care\\\" was quite bad and very unintentionally funny. But at least not as bad as I thought it might be. Sometimes it's somewhat suspenseful, but never a good shocker.<br /><br />SPOILER AHEAD<br /><br />The fun lies in ridiculous moments. But the all-time classic moment is this: Peter (Koen Wauters) is stabbed and beaten by the killer. He lies moaning in the corner of the hallway. Amy (Nada van Nie) kneels beside him and asks \\\"Poor Peter, shall I get you a band-aid?\\\".<br /><br />This movie was shot in Dutch and English. To spare costs, all license plates are USA, and the background in the news studio is a skyline of Manhattan. Very funny if you're Dutch and watching the original version in Dutch.\",\n          \"Wonderful film that mixes documentary and fiction in a way that makes the spectator question: what is the extent of truth in documentary films or is there such a thing as an objective documentary.\"\n        ],\n        \"semantic_type\": \"\",\n        \"description\": \"\"\n      }\n    },\n    {\n      \"column\": \"sentiment\",\n      \"properties\": {\n        \"dtype\": \"category\",\n        \"num_unique_values\": 2,\n        \"samples\": [\n          \"negative\",\n          \"positive\"\n        ],\n        \"semantic_type\": \"\",\n        \"description\": \"\"\n      }\n    }\n  ]\n}"
            }
          },
          "metadata": {},
          "execution_count": 12
        }
      ]
    },
    {
      "cell_type": "code",
      "source": [
        "df.shape"
      ],
      "metadata": {
        "colab": {
          "base_uri": "https://localhost:8080/"
        },
        "id": "r62uzXWmT7mX",
        "outputId": "7845c3ce-78da-4459-c56b-e42c63937fcc"
      },
      "execution_count": 13,
      "outputs": [
        {
          "output_type": "execute_result",
          "data": {
            "text/plain": [
              "(10000, 2)"
            ]
          },
          "metadata": {},
          "execution_count": 13
        }
      ]
    },
    {
      "cell_type": "code",
      "source": [
        "df['review'][1]"
      ],
      "metadata": {
        "id": "thq0IbxeT92P",
        "colab": {
          "base_uri": "https://localhost:8080/",
          "height": 244
        },
        "outputId": "16ee8ae9-3bc5-4ee6-d194-60f04281af9e"
      },
      "execution_count": 14,
      "outputs": [
        {
          "output_type": "execute_result",
          "data": {
            "text/plain": [
              "'A wonderful little production. <br /><br />The filming technique is very unassuming- very old-time-BBC fashion and gives a comforting, and sometimes discomforting, sense of realism to the entire piece. <br /><br />The actors are extremely well chosen- Michael Sheen not only \"has got all the polari\" but he has all the voices down pat too! You can truly see the seamless editing guided by the references to Williams\\' diary entries, not only is it well worth the watching but it is a terrificly written and performed piece. A masterful production about one of the great master\\'s of comedy and his life. <br /><br />The realism really comes home with the little things: the fantasy of the guard which, rather than use the traditional \\'dream\\' techniques remains solid then disappears. It plays on our knowledge and our senses, particularly with the scenes concerning Orton and Halliwell and the sets (particularly of their flat with Halliwell\\'s murals decorating every surface) are terribly well done.'"
            ],
            "application/vnd.google.colaboratory.intrinsic+json": {
              "type": "string"
            }
          },
          "metadata": {},
          "execution_count": 14
        }
      ]
    },
    {
      "cell_type": "code",
      "source": [
        "df['sentiment'].value_counts()"
      ],
      "metadata": {
        "id": "DlQXDX1oTzse",
        "colab": {
          "base_uri": "https://localhost:8080/",
          "height": 178
        },
        "outputId": "fd097f24-5f82-4941-fac2-29638d5f49cb"
      },
      "execution_count": 15,
      "outputs": [
        {
          "output_type": "execute_result",
          "data": {
            "text/plain": [
              "sentiment\n",
              "positive    5028\n",
              "negative    4972\n",
              "Name: count, dtype: int64"
            ],
            "text/html": [
              "<div>\n",
              "<style scoped>\n",
              "    .dataframe tbody tr th:only-of-type {\n",
              "        vertical-align: middle;\n",
              "    }\n",
              "\n",
              "    .dataframe tbody tr th {\n",
              "        vertical-align: top;\n",
              "    }\n",
              "\n",
              "    .dataframe thead th {\n",
              "        text-align: right;\n",
              "    }\n",
              "</style>\n",
              "<table border=\"1\" class=\"dataframe\">\n",
              "  <thead>\n",
              "    <tr style=\"text-align: right;\">\n",
              "      <th></th>\n",
              "      <th>count</th>\n",
              "    </tr>\n",
              "    <tr>\n",
              "      <th>sentiment</th>\n",
              "      <th></th>\n",
              "    </tr>\n",
              "  </thead>\n",
              "  <tbody>\n",
              "    <tr>\n",
              "      <th>positive</th>\n",
              "      <td>5028</td>\n",
              "    </tr>\n",
              "    <tr>\n",
              "      <th>negative</th>\n",
              "      <td>4972</td>\n",
              "    </tr>\n",
              "  </tbody>\n",
              "</table>\n",
              "</div><br><label><b>dtype:</b> int64</label>"
            ]
          },
          "metadata": {},
          "execution_count": 15
        }
      ]
    },
    {
      "cell_type": "code",
      "source": [
        "df.isnull().sum()"
      ],
      "metadata": {
        "colab": {
          "base_uri": "https://localhost:8080/",
          "height": 147
        },
        "id": "TVXLA9rMpNiN",
        "outputId": "f55c3d9d-e63c-4eed-8916-def000c85cd4"
      },
      "execution_count": 16,
      "outputs": [
        {
          "output_type": "execute_result",
          "data": {
            "text/plain": [
              "review       0\n",
              "sentiment    0\n",
              "dtype: int64"
            ],
            "text/html": [
              "<div>\n",
              "<style scoped>\n",
              "    .dataframe tbody tr th:only-of-type {\n",
              "        vertical-align: middle;\n",
              "    }\n",
              "\n",
              "    .dataframe tbody tr th {\n",
              "        vertical-align: top;\n",
              "    }\n",
              "\n",
              "    .dataframe thead th {\n",
              "        text-align: right;\n",
              "    }\n",
              "</style>\n",
              "<table border=\"1\" class=\"dataframe\">\n",
              "  <thead>\n",
              "    <tr style=\"text-align: right;\">\n",
              "      <th></th>\n",
              "      <th>0</th>\n",
              "    </tr>\n",
              "  </thead>\n",
              "  <tbody>\n",
              "    <tr>\n",
              "      <th>review</th>\n",
              "      <td>0</td>\n",
              "    </tr>\n",
              "    <tr>\n",
              "      <th>sentiment</th>\n",
              "      <td>0</td>\n",
              "    </tr>\n",
              "  </tbody>\n",
              "</table>\n",
              "</div><br><label><b>dtype:</b> int64</label>"
            ]
          },
          "metadata": {},
          "execution_count": 16
        }
      ]
    },
    {
      "cell_type": "code",
      "source": [
        "df.duplicated().sum()"
      ],
      "metadata": {
        "colab": {
          "base_uri": "https://localhost:8080/"
        },
        "id": "dZlKOCzrpQ8F",
        "outputId": "fc3dec77-9ae2-42b8-a6cc-f298945f5eec"
      },
      "execution_count": 17,
      "outputs": [
        {
          "output_type": "execute_result",
          "data": {
            "text/plain": [
              "17"
            ]
          },
          "metadata": {},
          "execution_count": 17
        }
      ]
    },
    {
      "cell_type": "code",
      "source": [
        "df.drop_duplicates(inplace=True)"
      ],
      "metadata": {
        "id": "4fwnqyLwpVdS"
      },
      "execution_count": 18,
      "outputs": []
    },
    {
      "cell_type": "code",
      "source": [
        "df.duplicated().sum()"
      ],
      "metadata": {
        "colab": {
          "base_uri": "https://localhost:8080/"
        },
        "id": "wE8MgeSNpk3O",
        "outputId": "0fe301ae-e659-4be1-da03-3e919d96dc35"
      },
      "execution_count": 19,
      "outputs": [
        {
          "output_type": "execute_result",
          "data": {
            "text/plain": [
              "0"
            ]
          },
          "metadata": {},
          "execution_count": 19
        }
      ]
    },
    {
      "cell_type": "markdown",
      "source": [
        "# Basic preprocessing"
      ],
      "metadata": {
        "id": "MWxakabhpo0z"
      }
    },
    {
      "cell_type": "code",
      "source": [
        "# remove tags - html\n",
        "# lower case\n",
        "# remove stopwords"
      ],
      "metadata": {
        "id": "NRhRMIMDpnOy"
      },
      "execution_count": 20,
      "outputs": []
    },
    {
      "cell_type": "code",
      "source": [
        "import re\n",
        "def remove_tags(raw_text):\n",
        "  cleaned_text = re.sub(re.compile('<.*?>'), '', raw_text)\n",
        "  return cleaned_text"
      ],
      "metadata": {
        "id": "1Z0eC7hNp0px"
      },
      "execution_count": 21,
      "outputs": []
    },
    {
      "cell_type": "code",
      "source": [
        "df['review'] = df['review'].apply(remove_tags)"
      ],
      "metadata": {
        "id": "zHZiAP0Hp8wk"
      },
      "execution_count": 22,
      "outputs": []
    },
    {
      "cell_type": "code",
      "source": [
        "df['review'][1]"
      ],
      "metadata": {
        "colab": {
          "base_uri": "https://localhost:8080/",
          "height": 226
        },
        "id": "BOOoCXjiqCwM",
        "outputId": "46220ce1-5ffc-4267-b184-a221f2b0566b"
      },
      "execution_count": 23,
      "outputs": [
        {
          "output_type": "execute_result",
          "data": {
            "text/plain": [
              "'A wonderful little production. The filming technique is very unassuming- very old-time-BBC fashion and gives a comforting, and sometimes discomforting, sense of realism to the entire piece. The actors are extremely well chosen- Michael Sheen not only \"has got all the polari\" but he has all the voices down pat too! You can truly see the seamless editing guided by the references to Williams\\' diary entries, not only is it well worth the watching but it is a terrificly written and performed piece. A masterful production about one of the great master\\'s of comedy and his life. The realism really comes home with the little things: the fantasy of the guard which, rather than use the traditional \\'dream\\' techniques remains solid then disappears. It plays on our knowledge and our senses, particularly with the scenes concerning Orton and Halliwell and the sets (particularly of their flat with Halliwell\\'s murals decorating every surface) are terribly well done.'"
            ],
            "application/vnd.google.colaboratory.intrinsic+json": {
              "type": "string"
            }
          },
          "metadata": {},
          "execution_count": 23
        }
      ]
    },
    {
      "cell_type": "code",
      "source": [
        "df['review'] = df['review'].apply(lambda x: x.lower())"
      ],
      "metadata": {
        "id": "djEWmnhxqGA9"
      },
      "execution_count": 24,
      "outputs": []
    },
    {
      "cell_type": "code",
      "source": [
        "df['review'][1]"
      ],
      "metadata": {
        "colab": {
          "base_uri": "https://localhost:8080/",
          "height": 226
        },
        "id": "nqQGKHC0qWXU",
        "outputId": "10ce0171-15b6-4f7a-ceaf-86a41354a954"
      },
      "execution_count": 25,
      "outputs": [
        {
          "output_type": "execute_result",
          "data": {
            "text/plain": [
              "'a wonderful little production. the filming technique is very unassuming- very old-time-bbc fashion and gives a comforting, and sometimes discomforting, sense of realism to the entire piece. the actors are extremely well chosen- michael sheen not only \"has got all the polari\" but he has all the voices down pat too! you can truly see the seamless editing guided by the references to williams\\' diary entries, not only is it well worth the watching but it is a terrificly written and performed piece. a masterful production about one of the great master\\'s of comedy and his life. the realism really comes home with the little things: the fantasy of the guard which, rather than use the traditional \\'dream\\' techniques remains solid then disappears. it plays on our knowledge and our senses, particularly with the scenes concerning orton and halliwell and the sets (particularly of their flat with halliwell\\'s murals decorating every surface) are terribly well done.'"
            ],
            "application/vnd.google.colaboratory.intrinsic+json": {
              "type": "string"
            }
          },
          "metadata": {},
          "execution_count": 25
        }
      ]
    },
    {
      "cell_type": "code",
      "source": [
        "from nltk.corpus import stopwords\n",
        "import nltk\n",
        "nltk.download()\n",
        "\n",
        "sw_list = stopwords.words('english')\n",
        "df['review'] = df['review'].apply(lambda x: [item for item in x.split() if item not in sw_list]).apply(lambda x:\" \".join(x))"
      ],
      "metadata": {
        "colab": {
          "base_uri": "https://localhost:8080/"
        },
        "id": "HG1PxuVbqYXC",
        "outputId": "f4123715-492b-4b14-ce6c-ba724cf200a3"
      },
      "execution_count": 27,
      "outputs": [
        {
          "name": "stdout",
          "output_type": "stream",
          "text": [
            "NLTK Downloader\n",
            "---------------------------------------------------------------------------\n",
            "    d) Download   l) List    u) Update   c) Config   h) Help   q) Quit\n",
            "---------------------------------------------------------------------------\n",
            "Downloader> q\n"
          ]
        }
      ]
    },
    {
      "cell_type": "code",
      "source": [
        "df['review'][1]"
      ],
      "metadata": {
        "colab": {
          "base_uri": "https://localhost:8080/",
          "height": 174
        },
        "id": "i8PQY8k1CQuS",
        "outputId": "411b8ea5-5541-4e1c-ff15-8e3b46acd9d7"
      },
      "execution_count": 28,
      "outputs": [
        {
          "output_type": "execute_result",
          "data": {
            "text/plain": [
              "'wonderful little production. filming technique unassuming- old-time-bbc fashion gives comforting, sometimes discomforting, sense realism entire piece. actors extremely well chosen- michael sheen \"has got polari\" voices pat too! truly see seamless editing guided references williams\\' diary entries, well worth watching terrificly written performed piece. masterful production one great master\\'s comedy life. realism really comes home little things: fantasy guard which, rather use traditional \\'dream\\' techniques remains solid disappears. plays knowledge senses, particularly scenes concerning orton halliwell sets (particularly flat halliwell\\'s murals decorating every surface) terribly well done.'"
            ],
            "application/vnd.google.colaboratory.intrinsic+json": {
              "type": "string"
            }
          },
          "metadata": {},
          "execution_count": 28
        }
      ]
    },
    {
      "cell_type": "code",
      "source": [
        "# seprarating independent and dependent variables\n",
        "x = df.iloc[:,0:1]\n",
        "y = df['sentiment']"
      ],
      "metadata": {
        "id": "rTK7C6gWCrtU"
      },
      "execution_count": 31,
      "outputs": []
    },
    {
      "cell_type": "code",
      "source": [
        "x.head()"
      ],
      "metadata": {
        "colab": {
          "base_uri": "https://localhost:8080/",
          "height": 379
        },
        "id": "_HDIEL1NDey0",
        "outputId": "c23543cf-11ca-4a10-dc96-7ef44bb36917"
      },
      "execution_count": 33,
      "outputs": [
        {
          "output_type": "execute_result",
          "data": {
            "text/plain": [
              "                                                                                                                                                                                                                                                           review\n",
              "0  one reviewers mentioned watching 1 oz episode hooked. right, exactly happened me.the first thing struck oz brutality unflinching scenes violence, set right word go. trust me, show faint hearted timid. show pulls punches regards drugs, sex violence. ha...\n",
              "1  wonderful little production. filming technique unassuming- old-time-bbc fashion gives comforting, sometimes discomforting, sense realism entire piece. actors extremely well chosen- michael sheen \"has got polari\" voices pat too! truly see seamless edit...\n",
              "2  thought wonderful way spend time hot summer weekend, sitting air conditioned theater watching light-hearted comedy. plot simplistic, dialogue witty characters likable (even well bread suspected serial killer). may disappointed realize match point 2: r...\n",
              "3  basically there's family little boy (jake) thinks there's zombie closet & parents fighting time.this movie slower soap opera... suddenly, jake decides become rambo kill zombie.ok, first going make film must decide thriller drama! drama movie watchable...\n",
              "4  petter mattei's \"love time money\" visually stunning film watch. mr. mattei offers us vivid portrait human relations. movie seems telling us money, power success people different situations encounter. variation arthur schnitzler's play theme, director ..."
            ],
            "text/html": [
              "\n",
              "  <div id=\"df-f4c6a27b-8ca8-427d-a0a6-5d7b7dbe558a\" class=\"colab-df-container\">\n",
              "    <div>\n",
              "<style scoped>\n",
              "    .dataframe tbody tr th:only-of-type {\n",
              "        vertical-align: middle;\n",
              "    }\n",
              "\n",
              "    .dataframe tbody tr th {\n",
              "        vertical-align: top;\n",
              "    }\n",
              "\n",
              "    .dataframe thead th {\n",
              "        text-align: right;\n",
              "    }\n",
              "</style>\n",
              "<table border=\"1\" class=\"dataframe\">\n",
              "  <thead>\n",
              "    <tr style=\"text-align: right;\">\n",
              "      <th></th>\n",
              "      <th>review</th>\n",
              "    </tr>\n",
              "  </thead>\n",
              "  <tbody>\n",
              "    <tr>\n",
              "      <th>0</th>\n",
              "      <td>one reviewers mentioned watching 1 oz episode hooked. right, exactly happened me.the first thing struck oz brutality unflinching scenes violence, set right word go. trust me, show faint hearted timid. show pulls punches regards drugs, sex violence. ha...</td>\n",
              "    </tr>\n",
              "    <tr>\n",
              "      <th>1</th>\n",
              "      <td>wonderful little production. filming technique unassuming- old-time-bbc fashion gives comforting, sometimes discomforting, sense realism entire piece. actors extremely well chosen- michael sheen \"has got polari\" voices pat too! truly see seamless edit...</td>\n",
              "    </tr>\n",
              "    <tr>\n",
              "      <th>2</th>\n",
              "      <td>thought wonderful way spend time hot summer weekend, sitting air conditioned theater watching light-hearted comedy. plot simplistic, dialogue witty characters likable (even well bread suspected serial killer). may disappointed realize match point 2: r...</td>\n",
              "    </tr>\n",
              "    <tr>\n",
              "      <th>3</th>\n",
              "      <td>basically there's family little boy (jake) thinks there's zombie closet &amp; parents fighting time.this movie slower soap opera... suddenly, jake decides become rambo kill zombie.ok, first going make film must decide thriller drama! drama movie watchable...</td>\n",
              "    </tr>\n",
              "    <tr>\n",
              "      <th>4</th>\n",
              "      <td>petter mattei's \"love time money\" visually stunning film watch. mr. mattei offers us vivid portrait human relations. movie seems telling us money, power success people different situations encounter. variation arthur schnitzler's play theme, director ...</td>\n",
              "    </tr>\n",
              "  </tbody>\n",
              "</table>\n",
              "</div>\n",
              "    <div class=\"colab-df-buttons\">\n",
              "\n",
              "  <div class=\"colab-df-container\">\n",
              "    <button class=\"colab-df-convert\" onclick=\"convertToInteractive('df-f4c6a27b-8ca8-427d-a0a6-5d7b7dbe558a')\"\n",
              "            title=\"Convert this dataframe to an interactive table.\"\n",
              "            style=\"display:none;\">\n",
              "\n",
              "  <svg xmlns=\"http://www.w3.org/2000/svg\" height=\"24px\" viewBox=\"0 -960 960 960\">\n",
              "    <path d=\"M120-120v-720h720v720H120Zm60-500h600v-160H180v160Zm220 220h160v-160H400v160Zm0 220h160v-160H400v160ZM180-400h160v-160H180v160Zm440 0h160v-160H620v160ZM180-180h160v-160H180v160Zm440 0h160v-160H620v160Z\"/>\n",
              "  </svg>\n",
              "    </button>\n",
              "\n",
              "  <style>\n",
              "    .colab-df-container {\n",
              "      display:flex;\n",
              "      gap: 12px;\n",
              "    }\n",
              "\n",
              "    .colab-df-convert {\n",
              "      background-color: #E8F0FE;\n",
              "      border: none;\n",
              "      border-radius: 50%;\n",
              "      cursor: pointer;\n",
              "      display: none;\n",
              "      fill: #1967D2;\n",
              "      height: 32px;\n",
              "      padding: 0 0 0 0;\n",
              "      width: 32px;\n",
              "    }\n",
              "\n",
              "    .colab-df-convert:hover {\n",
              "      background-color: #E2EBFA;\n",
              "      box-shadow: 0px 1px 2px rgba(60, 64, 67, 0.3), 0px 1px 3px 1px rgba(60, 64, 67, 0.15);\n",
              "      fill: #174EA6;\n",
              "    }\n",
              "\n",
              "    .colab-df-buttons div {\n",
              "      margin-bottom: 4px;\n",
              "    }\n",
              "\n",
              "    [theme=dark] .colab-df-convert {\n",
              "      background-color: #3B4455;\n",
              "      fill: #D2E3FC;\n",
              "    }\n",
              "\n",
              "    [theme=dark] .colab-df-convert:hover {\n",
              "      background-color: #434B5C;\n",
              "      box-shadow: 0px 1px 3px 1px rgba(0, 0, 0, 0.15);\n",
              "      filter: drop-shadow(0px 1px 2px rgba(0, 0, 0, 0.3));\n",
              "      fill: #FFFFFF;\n",
              "    }\n",
              "  </style>\n",
              "\n",
              "    <script>\n",
              "      const buttonEl =\n",
              "        document.querySelector('#df-f4c6a27b-8ca8-427d-a0a6-5d7b7dbe558a button.colab-df-convert');\n",
              "      buttonEl.style.display =\n",
              "        google.colab.kernel.accessAllowed ? 'block' : 'none';\n",
              "\n",
              "      async function convertToInteractive(key) {\n",
              "        const element = document.querySelector('#df-f4c6a27b-8ca8-427d-a0a6-5d7b7dbe558a');\n",
              "        const dataTable =\n",
              "          await google.colab.kernel.invokeFunction('convertToInteractive',\n",
              "                                                    [key], {});\n",
              "        if (!dataTable) return;\n",
              "\n",
              "        const docLinkHtml = 'Like what you see? Visit the ' +\n",
              "          '<a target=\"_blank\" href=https://colab.research.google.com/notebooks/data_table.ipynb>data table notebook</a>'\n",
              "          + ' to learn more about interactive tables.';\n",
              "        element.innerHTML = '';\n",
              "        dataTable['output_type'] = 'display_data';\n",
              "        await google.colab.output.renderOutput(dataTable, element);\n",
              "        const docLink = document.createElement('div');\n",
              "        docLink.innerHTML = docLinkHtml;\n",
              "        element.appendChild(docLink);\n",
              "      }\n",
              "    </script>\n",
              "  </div>\n",
              "\n",
              "\n",
              "<div id=\"df-02c5ba40-c412-467f-b7a4-786829c6a7c7\">\n",
              "  <button class=\"colab-df-quickchart\" onclick=\"quickchart('df-02c5ba40-c412-467f-b7a4-786829c6a7c7')\"\n",
              "            title=\"Suggest charts\"\n",
              "            style=\"display:none;\">\n",
              "\n",
              "<svg xmlns=\"http://www.w3.org/2000/svg\" height=\"24px\"viewBox=\"0 0 24 24\"\n",
              "     width=\"24px\">\n",
              "    <g>\n",
              "        <path d=\"M19 3H5c-1.1 0-2 .9-2 2v14c0 1.1.9 2 2 2h14c1.1 0 2-.9 2-2V5c0-1.1-.9-2-2-2zM9 17H7v-7h2v7zm4 0h-2V7h2v10zm4 0h-2v-4h2v4z\"/>\n",
              "    </g>\n",
              "</svg>\n",
              "  </button>\n",
              "\n",
              "<style>\n",
              "  .colab-df-quickchart {\n",
              "      --bg-color: #E8F0FE;\n",
              "      --fill-color: #1967D2;\n",
              "      --hover-bg-color: #E2EBFA;\n",
              "      --hover-fill-color: #174EA6;\n",
              "      --disabled-fill-color: #AAA;\n",
              "      --disabled-bg-color: #DDD;\n",
              "  }\n",
              "\n",
              "  [theme=dark] .colab-df-quickchart {\n",
              "      --bg-color: #3B4455;\n",
              "      --fill-color: #D2E3FC;\n",
              "      --hover-bg-color: #434B5C;\n",
              "      --hover-fill-color: #FFFFFF;\n",
              "      --disabled-bg-color: #3B4455;\n",
              "      --disabled-fill-color: #666;\n",
              "  }\n",
              "\n",
              "  .colab-df-quickchart {\n",
              "    background-color: var(--bg-color);\n",
              "    border: none;\n",
              "    border-radius: 50%;\n",
              "    cursor: pointer;\n",
              "    display: none;\n",
              "    fill: var(--fill-color);\n",
              "    height: 32px;\n",
              "    padding: 0;\n",
              "    width: 32px;\n",
              "  }\n",
              "\n",
              "  .colab-df-quickchart:hover {\n",
              "    background-color: var(--hover-bg-color);\n",
              "    box-shadow: 0 1px 2px rgba(60, 64, 67, 0.3), 0 1px 3px 1px rgba(60, 64, 67, 0.15);\n",
              "    fill: var(--button-hover-fill-color);\n",
              "  }\n",
              "\n",
              "  .colab-df-quickchart-complete:disabled,\n",
              "  .colab-df-quickchart-complete:disabled:hover {\n",
              "    background-color: var(--disabled-bg-color);\n",
              "    fill: var(--disabled-fill-color);\n",
              "    box-shadow: none;\n",
              "  }\n",
              "\n",
              "  .colab-df-spinner {\n",
              "    border: 2px solid var(--fill-color);\n",
              "    border-color: transparent;\n",
              "    border-bottom-color: var(--fill-color);\n",
              "    animation:\n",
              "      spin 1s steps(1) infinite;\n",
              "  }\n",
              "\n",
              "  @keyframes spin {\n",
              "    0% {\n",
              "      border-color: transparent;\n",
              "      border-bottom-color: var(--fill-color);\n",
              "      border-left-color: var(--fill-color);\n",
              "    }\n",
              "    20% {\n",
              "      border-color: transparent;\n",
              "      border-left-color: var(--fill-color);\n",
              "      border-top-color: var(--fill-color);\n",
              "    }\n",
              "    30% {\n",
              "      border-color: transparent;\n",
              "      border-left-color: var(--fill-color);\n",
              "      border-top-color: var(--fill-color);\n",
              "      border-right-color: var(--fill-color);\n",
              "    }\n",
              "    40% {\n",
              "      border-color: transparent;\n",
              "      border-right-color: var(--fill-color);\n",
              "      border-top-color: var(--fill-color);\n",
              "    }\n",
              "    60% {\n",
              "      border-color: transparent;\n",
              "      border-right-color: var(--fill-color);\n",
              "    }\n",
              "    80% {\n",
              "      border-color: transparent;\n",
              "      border-right-color: var(--fill-color);\n",
              "      border-bottom-color: var(--fill-color);\n",
              "    }\n",
              "    90% {\n",
              "      border-color: transparent;\n",
              "      border-bottom-color: var(--fill-color);\n",
              "    }\n",
              "  }\n",
              "</style>\n",
              "\n",
              "  <script>\n",
              "    async function quickchart(key) {\n",
              "      const quickchartButtonEl =\n",
              "        document.querySelector('#' + key + ' button');\n",
              "      quickchartButtonEl.disabled = true;  // To prevent multiple clicks.\n",
              "      quickchartButtonEl.classList.add('colab-df-spinner');\n",
              "      try {\n",
              "        const charts = await google.colab.kernel.invokeFunction(\n",
              "            'suggestCharts', [key], {});\n",
              "      } catch (error) {\n",
              "        console.error('Error during call to suggestCharts:', error);\n",
              "      }\n",
              "      quickchartButtonEl.classList.remove('colab-df-spinner');\n",
              "      quickchartButtonEl.classList.add('colab-df-quickchart-complete');\n",
              "    }\n",
              "    (() => {\n",
              "      let quickchartButtonEl =\n",
              "        document.querySelector('#df-02c5ba40-c412-467f-b7a4-786829c6a7c7 button');\n",
              "      quickchartButtonEl.style.display =\n",
              "        google.colab.kernel.accessAllowed ? 'block' : 'none';\n",
              "    })();\n",
              "  </script>\n",
              "</div>\n",
              "\n",
              "    </div>\n",
              "  </div>\n"
            ],
            "application/vnd.google.colaboratory.intrinsic+json": {
              "type": "dataframe",
              "variable_name": "x",
              "summary": "{\n  \"name\": \"x\",\n  \"rows\": 9983,\n  \"fields\": [\n    {\n      \"column\": \"review\",\n      \"properties\": {\n        \"dtype\": \"string\",\n        \"num_unique_values\": 9983,\n        \"samples\": [\n          \"good grief! still maintain manos: hands fate worst piece mental torture available, hobgoblins came awfully close. this...this...thing insults audience every opportunity.at least films like space mutiny future war enjoyed mst3k, one struggle get through. literally writhing couch anguish. thing managed embarrass - alone!even die-hard mst3k fan made mission see every single experiment, think twice seeing one.it's bad.\",\n          \"thought \\\"intensive care\\\" quite bad unintentionally funny. least bad thought might be. sometimes somewhat suspenseful, never good shocker.spoiler aheadthe fun lies ridiculous moments. all-time classic moment this: peter (koen wauters) stabbed beaten killer. lies moaning corner hallway. amy (nada van nie) kneels beside asks \\\"poor peter, shall get band-aid?\\\".this movie shot dutch english. spare costs, license plates usa, background news studio skyline manhattan. funny dutch watching original version dutch.\",\n          \"wonderful film mixes documentary fiction way makes spectator question: extent truth documentary films thing objective documentary.\"\n        ],\n        \"semantic_type\": \"\",\n        \"description\": \"\"\n      }\n    }\n  ]\n}"
            }
          },
          "metadata": {},
          "execution_count": 33
        }
      ]
    },
    {
      "cell_type": "code",
      "source": [
        "y.head()"
      ],
      "metadata": {
        "colab": {
          "base_uri": "https://localhost:8080/",
          "height": 241
        },
        "id": "hkRJxZo3DgIb",
        "outputId": "8c74652e-62d8-4ff0-fa0b-69243279881f"
      },
      "execution_count": 34,
      "outputs": [
        {
          "output_type": "execute_result",
          "data": {
            "text/plain": [
              "0    positive\n",
              "1    positive\n",
              "2    positive\n",
              "3    negative\n",
              "4    positive\n",
              "Name: sentiment, dtype: object"
            ],
            "text/html": [
              "<div>\n",
              "<style scoped>\n",
              "    .dataframe tbody tr th:only-of-type {\n",
              "        vertical-align: middle;\n",
              "    }\n",
              "\n",
              "    .dataframe tbody tr th {\n",
              "        vertical-align: top;\n",
              "    }\n",
              "\n",
              "    .dataframe thead th {\n",
              "        text-align: right;\n",
              "    }\n",
              "</style>\n",
              "<table border=\"1\" class=\"dataframe\">\n",
              "  <thead>\n",
              "    <tr style=\"text-align: right;\">\n",
              "      <th></th>\n",
              "      <th>sentiment</th>\n",
              "    </tr>\n",
              "  </thead>\n",
              "  <tbody>\n",
              "    <tr>\n",
              "      <th>0</th>\n",
              "      <td>positive</td>\n",
              "    </tr>\n",
              "    <tr>\n",
              "      <th>1</th>\n",
              "      <td>positive</td>\n",
              "    </tr>\n",
              "    <tr>\n",
              "      <th>2</th>\n",
              "      <td>positive</td>\n",
              "    </tr>\n",
              "    <tr>\n",
              "      <th>3</th>\n",
              "      <td>negative</td>\n",
              "    </tr>\n",
              "    <tr>\n",
              "      <th>4</th>\n",
              "      <td>positive</td>\n",
              "    </tr>\n",
              "  </tbody>\n",
              "</table>\n",
              "</div><br><label><b>dtype:</b> object</label>"
            ]
          },
          "metadata": {},
          "execution_count": 34
        }
      ]
    },
    {
      "cell_type": "code",
      "source": [
        "#converting y's data to numerical representation (0's and 1's)\n",
        "from sklearn.preprocessing import LabelEncoder\n",
        "encoder = LabelEncoder()\n",
        "y=encoder.fit_transform(y)"
      ],
      "metadata": {
        "id": "60OAfyezDy7u"
      },
      "execution_count": 36,
      "outputs": []
    },
    {
      "cell_type": "code",
      "source": [
        "y"
      ],
      "metadata": {
        "colab": {
          "base_uri": "https://localhost:8080/"
        },
        "id": "aT3B6TDLECT0",
        "outputId": "1ba4b940-cc65-419b-efec-4494e9f155b4"
      },
      "execution_count": 37,
      "outputs": [
        {
          "output_type": "execute_result",
          "data": {
            "text/plain": [
              "array([1, 1, 1, ..., 0, 0, 1])"
            ]
          },
          "metadata": {},
          "execution_count": 37
        }
      ]
    },
    {
      "cell_type": "code",
      "source": [
        "from sklearn.model_selection import train_test_split\n",
        "X_train, X_test, y_train, y_test = train_test_split(x, y, test_size=0.2, random_state=1)"
      ],
      "metadata": {
        "id": "8e4gqTVdEMny"
      },
      "execution_count": 38,
      "outputs": []
    },
    {
      "cell_type": "code",
      "source": [
        "X_train.shape"
      ],
      "metadata": {
        "colab": {
          "base_uri": "https://localhost:8080/"
        },
        "id": "cuk9SLnyPGOP",
        "outputId": "d975293d-1a95-474a-e68e-1daa00add9cd"
      },
      "execution_count": 39,
      "outputs": [
        {
          "output_type": "execute_result",
          "data": {
            "text/plain": [
              "(7986, 1)"
            ]
          },
          "metadata": {},
          "execution_count": 39
        }
      ]
    },
    {
      "cell_type": "code",
      "source": [
        "X_test.shape"
      ],
      "metadata": {
        "colab": {
          "base_uri": "https://localhost:8080/"
        },
        "id": "Ny0pogs2P7GG",
        "outputId": "60089a36-ebf4-4424-d661-905e1a8c522e"
      },
      "execution_count": 40,
      "outputs": [
        {
          "output_type": "execute_result",
          "data": {
            "text/plain": [
              "(1997, 1)"
            ]
          },
          "metadata": {},
          "execution_count": 40
        }
      ]
    },
    {
      "cell_type": "code",
      "source": [
        "# applying bag of words\n",
        "\n",
        "from sklearn.feature_extraction.text import CountVectorizer\n",
        "cv = CountVectorizer()\n",
        "X_train_bow = cv.fit_transform(X_train['review']).toarray()\n",
        "X_test_bow = cv.transform(X_test['review']).toarray()"
      ],
      "metadata": {
        "id": "2HdloflEP-Xx"
      },
      "execution_count": 41,
      "outputs": []
    },
    {
      "cell_type": "code",
      "source": [
        "X_train_bow"
      ],
      "metadata": {
        "colab": {
          "base_uri": "https://localhost:8080/"
        },
        "id": "SEbfz5PlQStM",
        "outputId": "bc781ef6-5de2-4015-af05-57271f9c5a20"
      },
      "execution_count": 42,
      "outputs": [
        {
          "output_type": "execute_result",
          "data": {
            "text/plain": [
              "array([[0, 0, 0, ..., 0, 0, 0],\n",
              "       [0, 0, 0, ..., 0, 0, 0],\n",
              "       [0, 0, 0, ..., 0, 0, 0],\n",
              "       ...,\n",
              "       [0, 0, 0, ..., 0, 0, 0],\n",
              "       [0, 0, 0, ..., 0, 0, 0],\n",
              "       [0, 0, 0, ..., 0, 0, 0]])"
            ]
          },
          "metadata": {},
          "execution_count": 42
        }
      ]
    },
    {
      "cell_type": "code",
      "source": [
        "X_test_bow"
      ],
      "metadata": {
        "colab": {
          "base_uri": "https://localhost:8080/"
        },
        "id": "0UVTA_xhQXFU",
        "outputId": "faa372dd-b205-48a2-a1b1-ce787e763792"
      },
      "execution_count": 43,
      "outputs": [
        {
          "output_type": "execute_result",
          "data": {
            "text/plain": [
              "array([[0, 0, 0, ..., 0, 0, 0],\n",
              "       [0, 0, 0, ..., 0, 0, 0],\n",
              "       [0, 0, 0, ..., 0, 0, 0],\n",
              "       ...,\n",
              "       [0, 0, 0, ..., 0, 0, 0],\n",
              "       [0, 0, 0, ..., 0, 0, 0],\n",
              "       [0, 0, 0, ..., 0, 0, 0]])"
            ]
          },
          "metadata": {},
          "execution_count": 43
        }
      ]
    },
    {
      "cell_type": "code",
      "source": [
        "# using ML model naive bayes\n",
        "from sklearn.naive_bayes import GaussianNB\n",
        "gnb = GaussianNB()\n",
        "gnb.fit(X_train_bow,y_train)"
      ],
      "metadata": {
        "colab": {
          "base_uri": "https://localhost:8080/",
          "height": 80
        },
        "id": "HW2QK9b-QlIJ",
        "outputId": "e46a269e-0f6e-4756-ff7e-a94226074e97"
      },
      "execution_count": 44,
      "outputs": [
        {
          "output_type": "execute_result",
          "data": {
            "text/plain": [
              "GaussianNB()"
            ],
            "text/html": [
              "<style>#sk-container-id-1 {\n",
              "  /* Definition of color scheme common for light and dark mode */\n",
              "  --sklearn-color-text: #000;\n",
              "  --sklearn-color-text-muted: #666;\n",
              "  --sklearn-color-line: gray;\n",
              "  /* Definition of color scheme for unfitted estimators */\n",
              "  --sklearn-color-unfitted-level-0: #fff5e6;\n",
              "  --sklearn-color-unfitted-level-1: #f6e4d2;\n",
              "  --sklearn-color-unfitted-level-2: #ffe0b3;\n",
              "  --sklearn-color-unfitted-level-3: chocolate;\n",
              "  /* Definition of color scheme for fitted estimators */\n",
              "  --sklearn-color-fitted-level-0: #f0f8ff;\n",
              "  --sklearn-color-fitted-level-1: #d4ebff;\n",
              "  --sklearn-color-fitted-level-2: #b3dbfd;\n",
              "  --sklearn-color-fitted-level-3: cornflowerblue;\n",
              "\n",
              "  /* Specific color for light theme */\n",
              "  --sklearn-color-text-on-default-background: var(--sg-text-color, var(--theme-code-foreground, var(--jp-content-font-color1, black)));\n",
              "  --sklearn-color-background: var(--sg-background-color, var(--theme-background, var(--jp-layout-color0, white)));\n",
              "  --sklearn-color-border-box: var(--sg-text-color, var(--theme-code-foreground, var(--jp-content-font-color1, black)));\n",
              "  --sklearn-color-icon: #696969;\n",
              "\n",
              "  @media (prefers-color-scheme: dark) {\n",
              "    /* Redefinition of color scheme for dark theme */\n",
              "    --sklearn-color-text-on-default-background: var(--sg-text-color, var(--theme-code-foreground, var(--jp-content-font-color1, white)));\n",
              "    --sklearn-color-background: var(--sg-background-color, var(--theme-background, var(--jp-layout-color0, #111)));\n",
              "    --sklearn-color-border-box: var(--sg-text-color, var(--theme-code-foreground, var(--jp-content-font-color1, white)));\n",
              "    --sklearn-color-icon: #878787;\n",
              "  }\n",
              "}\n",
              "\n",
              "#sk-container-id-1 {\n",
              "  color: var(--sklearn-color-text);\n",
              "}\n",
              "\n",
              "#sk-container-id-1 pre {\n",
              "  padding: 0;\n",
              "}\n",
              "\n",
              "#sk-container-id-1 input.sk-hidden--visually {\n",
              "  border: 0;\n",
              "  clip: rect(1px 1px 1px 1px);\n",
              "  clip: rect(1px, 1px, 1px, 1px);\n",
              "  height: 1px;\n",
              "  margin: -1px;\n",
              "  overflow: hidden;\n",
              "  padding: 0;\n",
              "  position: absolute;\n",
              "  width: 1px;\n",
              "}\n",
              "\n",
              "#sk-container-id-1 div.sk-dashed-wrapped {\n",
              "  border: 1px dashed var(--sklearn-color-line);\n",
              "  margin: 0 0.4em 0.5em 0.4em;\n",
              "  box-sizing: border-box;\n",
              "  padding-bottom: 0.4em;\n",
              "  background-color: var(--sklearn-color-background);\n",
              "}\n",
              "\n",
              "#sk-container-id-1 div.sk-container {\n",
              "  /* jupyter's `normalize.less` sets `[hidden] { display: none; }`\n",
              "     but bootstrap.min.css set `[hidden] { display: none !important; }`\n",
              "     so we also need the `!important` here to be able to override the\n",
              "     default hidden behavior on the sphinx rendered scikit-learn.org.\n",
              "     See: https://github.com/scikit-learn/scikit-learn/issues/21755 */\n",
              "  display: inline-block !important;\n",
              "  position: relative;\n",
              "}\n",
              "\n",
              "#sk-container-id-1 div.sk-text-repr-fallback {\n",
              "  display: none;\n",
              "}\n",
              "\n",
              "div.sk-parallel-item,\n",
              "div.sk-serial,\n",
              "div.sk-item {\n",
              "  /* draw centered vertical line to link estimators */\n",
              "  background-image: linear-gradient(var(--sklearn-color-text-on-default-background), var(--sklearn-color-text-on-default-background));\n",
              "  background-size: 2px 100%;\n",
              "  background-repeat: no-repeat;\n",
              "  background-position: center center;\n",
              "}\n",
              "\n",
              "/* Parallel-specific style estimator block */\n",
              "\n",
              "#sk-container-id-1 div.sk-parallel-item::after {\n",
              "  content: \"\";\n",
              "  width: 100%;\n",
              "  border-bottom: 2px solid var(--sklearn-color-text-on-default-background);\n",
              "  flex-grow: 1;\n",
              "}\n",
              "\n",
              "#sk-container-id-1 div.sk-parallel {\n",
              "  display: flex;\n",
              "  align-items: stretch;\n",
              "  justify-content: center;\n",
              "  background-color: var(--sklearn-color-background);\n",
              "  position: relative;\n",
              "}\n",
              "\n",
              "#sk-container-id-1 div.sk-parallel-item {\n",
              "  display: flex;\n",
              "  flex-direction: column;\n",
              "}\n",
              "\n",
              "#sk-container-id-1 div.sk-parallel-item:first-child::after {\n",
              "  align-self: flex-end;\n",
              "  width: 50%;\n",
              "}\n",
              "\n",
              "#sk-container-id-1 div.sk-parallel-item:last-child::after {\n",
              "  align-self: flex-start;\n",
              "  width: 50%;\n",
              "}\n",
              "\n",
              "#sk-container-id-1 div.sk-parallel-item:only-child::after {\n",
              "  width: 0;\n",
              "}\n",
              "\n",
              "/* Serial-specific style estimator block */\n",
              "\n",
              "#sk-container-id-1 div.sk-serial {\n",
              "  display: flex;\n",
              "  flex-direction: column;\n",
              "  align-items: center;\n",
              "  background-color: var(--sklearn-color-background);\n",
              "  padding-right: 1em;\n",
              "  padding-left: 1em;\n",
              "}\n",
              "\n",
              "\n",
              "/* Toggleable style: style used for estimator/Pipeline/ColumnTransformer box that is\n",
              "clickable and can be expanded/collapsed.\n",
              "- Pipeline and ColumnTransformer use this feature and define the default style\n",
              "- Estimators will overwrite some part of the style using the `sk-estimator` class\n",
              "*/\n",
              "\n",
              "/* Pipeline and ColumnTransformer style (default) */\n",
              "\n",
              "#sk-container-id-1 div.sk-toggleable {\n",
              "  /* Default theme specific background. It is overwritten whether we have a\n",
              "  specific estimator or a Pipeline/ColumnTransformer */\n",
              "  background-color: var(--sklearn-color-background);\n",
              "}\n",
              "\n",
              "/* Toggleable label */\n",
              "#sk-container-id-1 label.sk-toggleable__label {\n",
              "  cursor: pointer;\n",
              "  display: flex;\n",
              "  width: 100%;\n",
              "  margin-bottom: 0;\n",
              "  padding: 0.5em;\n",
              "  box-sizing: border-box;\n",
              "  text-align: center;\n",
              "  align-items: start;\n",
              "  justify-content: space-between;\n",
              "  gap: 0.5em;\n",
              "}\n",
              "\n",
              "#sk-container-id-1 label.sk-toggleable__label .caption {\n",
              "  font-size: 0.6rem;\n",
              "  font-weight: lighter;\n",
              "  color: var(--sklearn-color-text-muted);\n",
              "}\n",
              "\n",
              "#sk-container-id-1 label.sk-toggleable__label-arrow:before {\n",
              "  /* Arrow on the left of the label */\n",
              "  content: \"▸\";\n",
              "  float: left;\n",
              "  margin-right: 0.25em;\n",
              "  color: var(--sklearn-color-icon);\n",
              "}\n",
              "\n",
              "#sk-container-id-1 label.sk-toggleable__label-arrow:hover:before {\n",
              "  color: var(--sklearn-color-text);\n",
              "}\n",
              "\n",
              "/* Toggleable content - dropdown */\n",
              "\n",
              "#sk-container-id-1 div.sk-toggleable__content {\n",
              "  max-height: 0;\n",
              "  max-width: 0;\n",
              "  overflow: hidden;\n",
              "  text-align: left;\n",
              "  /* unfitted */\n",
              "  background-color: var(--sklearn-color-unfitted-level-0);\n",
              "}\n",
              "\n",
              "#sk-container-id-1 div.sk-toggleable__content.fitted {\n",
              "  /* fitted */\n",
              "  background-color: var(--sklearn-color-fitted-level-0);\n",
              "}\n",
              "\n",
              "#sk-container-id-1 div.sk-toggleable__content pre {\n",
              "  margin: 0.2em;\n",
              "  border-radius: 0.25em;\n",
              "  color: var(--sklearn-color-text);\n",
              "  /* unfitted */\n",
              "  background-color: var(--sklearn-color-unfitted-level-0);\n",
              "}\n",
              "\n",
              "#sk-container-id-1 div.sk-toggleable__content.fitted pre {\n",
              "  /* unfitted */\n",
              "  background-color: var(--sklearn-color-fitted-level-0);\n",
              "}\n",
              "\n",
              "#sk-container-id-1 input.sk-toggleable__control:checked~div.sk-toggleable__content {\n",
              "  /* Expand drop-down */\n",
              "  max-height: 200px;\n",
              "  max-width: 100%;\n",
              "  overflow: auto;\n",
              "}\n",
              "\n",
              "#sk-container-id-1 input.sk-toggleable__control:checked~label.sk-toggleable__label-arrow:before {\n",
              "  content: \"▾\";\n",
              "}\n",
              "\n",
              "/* Pipeline/ColumnTransformer-specific style */\n",
              "\n",
              "#sk-container-id-1 div.sk-label input.sk-toggleable__control:checked~label.sk-toggleable__label {\n",
              "  color: var(--sklearn-color-text);\n",
              "  background-color: var(--sklearn-color-unfitted-level-2);\n",
              "}\n",
              "\n",
              "#sk-container-id-1 div.sk-label.fitted input.sk-toggleable__control:checked~label.sk-toggleable__label {\n",
              "  background-color: var(--sklearn-color-fitted-level-2);\n",
              "}\n",
              "\n",
              "/* Estimator-specific style */\n",
              "\n",
              "/* Colorize estimator box */\n",
              "#sk-container-id-1 div.sk-estimator input.sk-toggleable__control:checked~label.sk-toggleable__label {\n",
              "  /* unfitted */\n",
              "  background-color: var(--sklearn-color-unfitted-level-2);\n",
              "}\n",
              "\n",
              "#sk-container-id-1 div.sk-estimator.fitted input.sk-toggleable__control:checked~label.sk-toggleable__label {\n",
              "  /* fitted */\n",
              "  background-color: var(--sklearn-color-fitted-level-2);\n",
              "}\n",
              "\n",
              "#sk-container-id-1 div.sk-label label.sk-toggleable__label,\n",
              "#sk-container-id-1 div.sk-label label {\n",
              "  /* The background is the default theme color */\n",
              "  color: var(--sklearn-color-text-on-default-background);\n",
              "}\n",
              "\n",
              "/* On hover, darken the color of the background */\n",
              "#sk-container-id-1 div.sk-label:hover label.sk-toggleable__label {\n",
              "  color: var(--sklearn-color-text);\n",
              "  background-color: var(--sklearn-color-unfitted-level-2);\n",
              "}\n",
              "\n",
              "/* Label box, darken color on hover, fitted */\n",
              "#sk-container-id-1 div.sk-label.fitted:hover label.sk-toggleable__label.fitted {\n",
              "  color: var(--sklearn-color-text);\n",
              "  background-color: var(--sklearn-color-fitted-level-2);\n",
              "}\n",
              "\n",
              "/* Estimator label */\n",
              "\n",
              "#sk-container-id-1 div.sk-label label {\n",
              "  font-family: monospace;\n",
              "  font-weight: bold;\n",
              "  display: inline-block;\n",
              "  line-height: 1.2em;\n",
              "}\n",
              "\n",
              "#sk-container-id-1 div.sk-label-container {\n",
              "  text-align: center;\n",
              "}\n",
              "\n",
              "/* Estimator-specific */\n",
              "#sk-container-id-1 div.sk-estimator {\n",
              "  font-family: monospace;\n",
              "  border: 1px dotted var(--sklearn-color-border-box);\n",
              "  border-radius: 0.25em;\n",
              "  box-sizing: border-box;\n",
              "  margin-bottom: 0.5em;\n",
              "  /* unfitted */\n",
              "  background-color: var(--sklearn-color-unfitted-level-0);\n",
              "}\n",
              "\n",
              "#sk-container-id-1 div.sk-estimator.fitted {\n",
              "  /* fitted */\n",
              "  background-color: var(--sklearn-color-fitted-level-0);\n",
              "}\n",
              "\n",
              "/* on hover */\n",
              "#sk-container-id-1 div.sk-estimator:hover {\n",
              "  /* unfitted */\n",
              "  background-color: var(--sklearn-color-unfitted-level-2);\n",
              "}\n",
              "\n",
              "#sk-container-id-1 div.sk-estimator.fitted:hover {\n",
              "  /* fitted */\n",
              "  background-color: var(--sklearn-color-fitted-level-2);\n",
              "}\n",
              "\n",
              "/* Specification for estimator info (e.g. \"i\" and \"?\") */\n",
              "\n",
              "/* Common style for \"i\" and \"?\" */\n",
              "\n",
              ".sk-estimator-doc-link,\n",
              "a:link.sk-estimator-doc-link,\n",
              "a:visited.sk-estimator-doc-link {\n",
              "  float: right;\n",
              "  font-size: smaller;\n",
              "  line-height: 1em;\n",
              "  font-family: monospace;\n",
              "  background-color: var(--sklearn-color-background);\n",
              "  border-radius: 1em;\n",
              "  height: 1em;\n",
              "  width: 1em;\n",
              "  text-decoration: none !important;\n",
              "  margin-left: 0.5em;\n",
              "  text-align: center;\n",
              "  /* unfitted */\n",
              "  border: var(--sklearn-color-unfitted-level-1) 1pt solid;\n",
              "  color: var(--sklearn-color-unfitted-level-1);\n",
              "}\n",
              "\n",
              ".sk-estimator-doc-link.fitted,\n",
              "a:link.sk-estimator-doc-link.fitted,\n",
              "a:visited.sk-estimator-doc-link.fitted {\n",
              "  /* fitted */\n",
              "  border: var(--sklearn-color-fitted-level-1) 1pt solid;\n",
              "  color: var(--sklearn-color-fitted-level-1);\n",
              "}\n",
              "\n",
              "/* On hover */\n",
              "div.sk-estimator:hover .sk-estimator-doc-link:hover,\n",
              ".sk-estimator-doc-link:hover,\n",
              "div.sk-label-container:hover .sk-estimator-doc-link:hover,\n",
              ".sk-estimator-doc-link:hover {\n",
              "  /* unfitted */\n",
              "  background-color: var(--sklearn-color-unfitted-level-3);\n",
              "  color: var(--sklearn-color-background);\n",
              "  text-decoration: none;\n",
              "}\n",
              "\n",
              "div.sk-estimator.fitted:hover .sk-estimator-doc-link.fitted:hover,\n",
              ".sk-estimator-doc-link.fitted:hover,\n",
              "div.sk-label-container:hover .sk-estimator-doc-link.fitted:hover,\n",
              ".sk-estimator-doc-link.fitted:hover {\n",
              "  /* fitted */\n",
              "  background-color: var(--sklearn-color-fitted-level-3);\n",
              "  color: var(--sklearn-color-background);\n",
              "  text-decoration: none;\n",
              "}\n",
              "\n",
              "/* Span, style for the box shown on hovering the info icon */\n",
              ".sk-estimator-doc-link span {\n",
              "  display: none;\n",
              "  z-index: 9999;\n",
              "  position: relative;\n",
              "  font-weight: normal;\n",
              "  right: .2ex;\n",
              "  padding: .5ex;\n",
              "  margin: .5ex;\n",
              "  width: min-content;\n",
              "  min-width: 20ex;\n",
              "  max-width: 50ex;\n",
              "  color: var(--sklearn-color-text);\n",
              "  box-shadow: 2pt 2pt 4pt #999;\n",
              "  /* unfitted */\n",
              "  background: var(--sklearn-color-unfitted-level-0);\n",
              "  border: .5pt solid var(--sklearn-color-unfitted-level-3);\n",
              "}\n",
              "\n",
              ".sk-estimator-doc-link.fitted span {\n",
              "  /* fitted */\n",
              "  background: var(--sklearn-color-fitted-level-0);\n",
              "  border: var(--sklearn-color-fitted-level-3);\n",
              "}\n",
              "\n",
              ".sk-estimator-doc-link:hover span {\n",
              "  display: block;\n",
              "}\n",
              "\n",
              "/* \"?\"-specific style due to the `<a>` HTML tag */\n",
              "\n",
              "#sk-container-id-1 a.estimator_doc_link {\n",
              "  float: right;\n",
              "  font-size: 1rem;\n",
              "  line-height: 1em;\n",
              "  font-family: monospace;\n",
              "  background-color: var(--sklearn-color-background);\n",
              "  border-radius: 1rem;\n",
              "  height: 1rem;\n",
              "  width: 1rem;\n",
              "  text-decoration: none;\n",
              "  /* unfitted */\n",
              "  color: var(--sklearn-color-unfitted-level-1);\n",
              "  border: var(--sklearn-color-unfitted-level-1) 1pt solid;\n",
              "}\n",
              "\n",
              "#sk-container-id-1 a.estimator_doc_link.fitted {\n",
              "  /* fitted */\n",
              "  border: var(--sklearn-color-fitted-level-1) 1pt solid;\n",
              "  color: var(--sklearn-color-fitted-level-1);\n",
              "}\n",
              "\n",
              "/* On hover */\n",
              "#sk-container-id-1 a.estimator_doc_link:hover {\n",
              "  /* unfitted */\n",
              "  background-color: var(--sklearn-color-unfitted-level-3);\n",
              "  color: var(--sklearn-color-background);\n",
              "  text-decoration: none;\n",
              "}\n",
              "\n",
              "#sk-container-id-1 a.estimator_doc_link.fitted:hover {\n",
              "  /* fitted */\n",
              "  background-color: var(--sklearn-color-fitted-level-3);\n",
              "}\n",
              "</style><div id=\"sk-container-id-1\" class=\"sk-top-container\"><div class=\"sk-text-repr-fallback\"><pre>GaussianNB()</pre><b>In a Jupyter environment, please rerun this cell to show the HTML representation or trust the notebook. <br />On GitHub, the HTML representation is unable to render, please try loading this page with nbviewer.org.</b></div><div class=\"sk-container\" hidden><div class=\"sk-item\"><div class=\"sk-estimator fitted sk-toggleable\"><input class=\"sk-toggleable__control sk-hidden--visually\" id=\"sk-estimator-id-1\" type=\"checkbox\" checked><label for=\"sk-estimator-id-1\" class=\"sk-toggleable__label fitted sk-toggleable__label-arrow\"><div><div>GaussianNB</div></div><div><a class=\"sk-estimator-doc-link fitted\" rel=\"noreferrer\" target=\"_blank\" href=\"https://scikit-learn.org/1.6/modules/generated/sklearn.naive_bayes.GaussianNB.html\">?<span>Documentation for GaussianNB</span></a><span class=\"sk-estimator-doc-link fitted\">i<span>Fitted</span></span></div></label><div class=\"sk-toggleable__content fitted\"><pre>GaussianNB()</pre></div> </div></div></div></div>"
            ]
          },
          "metadata": {},
          "execution_count": 44
        }
      ]
    },
    {
      "cell_type": "code",
      "source": [
        "y_pred = gnb.predict(X_test_bow)"
      ],
      "metadata": {
        "id": "5n1W5OIGQ0j9"
      },
      "execution_count": 45,
      "outputs": []
    },
    {
      "cell_type": "code",
      "source": [
        "from sklearn.metrics import accuracy_score\n",
        "accuracy_score(y_test,y_pred)"
      ],
      "metadata": {
        "colab": {
          "base_uri": "https://localhost:8080/"
        },
        "id": "lBKi3NhJRDet",
        "outputId": "9cf23d3f-8be0-4ce7-b159-a0d223e3f7d6"
      },
      "execution_count": 46,
      "outputs": [
        {
          "output_type": "execute_result",
          "data": {
            "text/plain": [
              "0.6324486730095142"
            ]
          },
          "metadata": {},
          "execution_count": 46
        }
      ]
    },
    {
      "cell_type": "markdown",
      "source": [
        "![image.png](data:image/png;base64,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)"
      ],
      "metadata": {
        "id": "YlgfSrGhRg0s"
      }
    },
    {
      "cell_type": "code",
      "source": [
        "# let's see true positive, false positive , true negative, false negative\n",
        "confusion_matrix(y_test,y_pred)"
      ],
      "metadata": {
        "colab": {
          "base_uri": "https://localhost:8080/"
        },
        "id": "8wFrFUYzRGJz",
        "outputId": "7f9750c7-cf23-4b0c-a69a-2d41c6e59033"
      },
      "execution_count": 48,
      "outputs": [
        {
          "output_type": "execute_result",
          "data": {
            "text/plain": [
              "array([[717, 235],\n",
              "       [499, 546]])"
            ]
          },
          "metadata": {},
          "execution_count": 48
        }
      ]
    },
    {
      "cell_type": "code",
      "source": [
        "from sklearn.ensemble import RandomForestClassifier\n",
        "rf = RandomForestClassifier()\n",
        "rf.fit(X_train_bow,y_train)\n",
        "y_pred = rf.predict(X_test_bow)\n",
        "accuracy_score(y_test,y_pred)"
      ],
      "metadata": {
        "colab": {
          "base_uri": "https://localhost:8080/"
        },
        "id": "mS8bdv0LRKk9",
        "outputId": "6932ae27-6447-40f7-8ea1-e073191e06b8"
      },
      "execution_count": 51,
      "outputs": [
        {
          "output_type": "execute_result",
          "data": {
            "text/plain": [
              "0.842764146219329"
            ]
          },
          "metadata": {},
          "execution_count": 51
        }
      ]
    },
    {
      "cell_type": "code",
      "source": [
        "cv = CountVectorizer(max_features=3000)\n",
        "X_train_bow = cv.fit_transform(X_train['review']).toarray()\n",
        "X_test_bow = cv.transform(X_test['review']).toarray()\n",
        "rf = RandomForestClassifier()\n",
        "rf.fit(X_train_bow,y_train)\n",
        "y_pred = rf.predict(X_test_bow)\n",
        "accuracy_score(y_test,y_pred)"
      ],
      "metadata": {
        "colab": {
          "base_uri": "https://localhost:8080/"
        },
        "id": "8g1QcJ9cRxXp",
        "outputId": "4a4ed5e9-7c55-4494-85d0-1dd548d26093"
      },
      "execution_count": 52,
      "outputs": [
        {
          "output_type": "execute_result",
          "data": {
            "text/plain": [
              "0.8377566349524287"
            ]
          },
          "metadata": {},
          "execution_count": 52
        }
      ]
    },
    {
      "cell_type": "code",
      "source": [],
      "metadata": {
        "id": "Spy2qb2-SvxX"
      },
      "execution_count": null,
      "outputs": []
    }
  ]
}